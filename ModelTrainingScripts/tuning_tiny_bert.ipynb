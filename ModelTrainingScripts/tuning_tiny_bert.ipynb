{
  "cells": [
    {
      "cell_type": "code",
      "execution_count": null,
      "metadata": {
        "id": "NVlSPdq3H1Bw"
      },
      "outputs": [],
      "source": [
        "import kagglehub\n",
        "jp797498e_twitter_entity_sentiment_analysis_path = kagglehub.dataset_download('jp797498e/twitter-entity-sentiment-analysis')\n",
        "\n",
        "print('Data source import complete.')\n"
      ]
    },
    {
      "cell_type": "code",
      "execution_count": null,
      "metadata": {
        "id": "8NW1sWBfH1CF",
        "trusted": true
      },
      "outputs": [],
      "source": []
    },
    {
      "cell_type": "code",
      "execution_count": null,
      "metadata": {
        "id": "uR89u2ElH1CG",
        "trusted": true
      },
      "outputs": [],
      "source": []
    },
    {
      "cell_type": "code",
      "execution_count": null,
      "metadata": {
        "execution": {
          "iopub.execute_input": "2025-08-29T10:44:42.011939Z",
          "iopub.status.busy": "2025-08-29T10:44:42.011288Z",
          "iopub.status.idle": "2025-08-29T10:45:58.642137Z",
          "shell.execute_reply": "2025-08-29T10:45:58.641442Z",
          "shell.execute_reply.started": "2025-08-29T10:44:42.011914Z"
        },
        "id": "K_IQAuSVH1CH",
        "outputId": "8b1404e1-3d59-4f1a-93a7-dc524a8a3788",
        "trusted": true
      },
      "outputs": [
        {
          "name": "stdout",
          "output_type": "stream",
          "text": [
            "\u001b[2K   \u001b[90m━━━━━━━━━━━━━━━━━━━━━━━━━━━━━━━━━━━━━━━━\u001b[0m \u001b[32m193.6/193.6 kB\u001b[0m \u001b[31m5.2 MB/s\u001b[0m eta \u001b[36m0:00:00\u001b[0ma \u001b[36m0:00:01\u001b[0m\n",
            "\u001b[2K   \u001b[90m━━━━━━━━━━━━━━━━━━━━━━━━━━━━━━━━━━━━━━━━\u001b[0m \u001b[32m363.4/363.4 MB\u001b[0m \u001b[31m4.8 MB/s\u001b[0m eta \u001b[36m0:00:00\u001b[0m:00:01\u001b[0m00:01\u001b[0m\n",
            "\u001b[2K   \u001b[90m━━━━━━━━━━━━━━━━━━━━━━━━━━━━━━━━━━━━━━━━\u001b[0m \u001b[32m13.8/13.8 MB\u001b[0m \u001b[31m85.1 MB/s\u001b[0m eta \u001b[36m0:00:00\u001b[0m:00:01\u001b[0m00:01\u001b[0m\n",
            "\u001b[2K   \u001b[90m━━━━━━━━━━━━━━━━━━━━━━━━━━━━━━━━━━━━━━━━\u001b[0m \u001b[32m24.6/24.6 MB\u001b[0m \u001b[31m67.2 MB/s\u001b[0m eta \u001b[36m0:00:00\u001b[0m:00:01\u001b[0m00:01\u001b[0m\n",
            "\u001b[2K   \u001b[90m━━━━━━━━━━━━━━━━━━━━━━━━━━━━━━━━━━━━━━━━\u001b[0m \u001b[32m883.7/883.7 kB\u001b[0m \u001b[31m45.2 MB/s\u001b[0m eta \u001b[36m0:00:00\u001b[0m\n",
            "\u001b[2K   \u001b[90m━━━━━━━━━━━━━━━━━━━━━━━━━━━━━━━━━━━━━━━━\u001b[0m \u001b[32m664.8/664.8 MB\u001b[0m \u001b[31m2.1 MB/s\u001b[0m eta \u001b[36m0:00:00\u001b[0m:00:01\u001b[0m00:01\u001b[0m\n",
            "\u001b[2K   \u001b[90m━━━━━━━━━━━━━━━━━━━━━━━━━━━━━━━━━━━━━━━━\u001b[0m \u001b[32m211.5/211.5 MB\u001b[0m \u001b[31m2.0 MB/s\u001b[0m eta \u001b[36m0:00:00\u001b[0m:00:01\u001b[0m00:01\u001b[0m\n",
            "\u001b[2K   \u001b[90m━━━━━━━━━━━━━━━━━━━━━━━━━━━━━━━━━━━━━━━━\u001b[0m \u001b[32m56.3/56.3 MB\u001b[0m \u001b[31m22.4 MB/s\u001b[0m eta \u001b[36m0:00:00\u001b[0m:00:01\u001b[0m00:01\u001b[0m\n",
            "\u001b[2K   \u001b[90m━━━━━━━━━━━━━━━━━━━━━━━━━━━━━━━━━━━━━━━━\u001b[0m \u001b[32m127.9/127.9 MB\u001b[0m \u001b[31m13.5 MB/s\u001b[0m eta \u001b[36m0:00:00\u001b[0m00:01\u001b[0m00:01\u001b[0m\n",
            "\u001b[2K   \u001b[90m━━━━━━━━━━━━━━━━━━━━━━━━━━━━━━━━━━━━━━━━\u001b[0m \u001b[32m207.5/207.5 MB\u001b[0m \u001b[31m8.2 MB/s\u001b[0m eta \u001b[36m0:00:00\u001b[0m:00:01\u001b[0m00:01\u001b[0m\n",
            "\u001b[2K   \u001b[90m━━━━━━━━━━━━━━━━━━━━━━━━━━━━━━━━━━━━━━━━\u001b[0m \u001b[32m21.1/21.1 MB\u001b[0m \u001b[31m74.1 MB/s\u001b[0m eta \u001b[36m0:00:00\u001b[0m:00:01\u001b[0m00:01\u001b[0m\n",
            "\u001b[?25h\u001b[31mERROR: pip's dependency resolver does not currently take into account all the packages that are installed. This behaviour is the source of the following dependency conflicts.\n",
            "bigframes 2.8.0 requires google-cloud-bigquery-storage<3.0.0,>=2.30.0, which is not installed.\n",
            "cesium 0.12.4 requires numpy<3.0,>=2.0, but you have numpy 1.26.4 which is incompatible.\n",
            "gcsfs 2025.3.2 requires fsspec==2025.3.2, but you have fsspec 2025.3.0 which is incompatible.\n",
            "bigframes 2.8.0 requires google-cloud-bigquery[bqstorage,pandas]>=3.31.0, but you have google-cloud-bigquery 3.25.0 which is incompatible.\n",
            "bigframes 2.8.0 requires rich<14,>=12.4.4, but you have rich 14.0.0 which is incompatible.\u001b[0m\u001b[31m\n",
            "\u001b[0m"
          ]
        }
      ],
      "source": [
        "!pip install transformers datasets accelerate -q\n"
      ]
    },
    {
      "cell_type": "code",
      "execution_count": null,
      "metadata": {
        "execution": {
          "iopub.execute_input": "2025-08-29T10:45:58.64356Z",
          "iopub.status.busy": "2025-08-29T10:45:58.643294Z",
          "iopub.status.idle": "2025-08-29T10:46:05.536296Z",
          "shell.execute_reply": "2025-08-29T10:46:05.535522Z",
          "shell.execute_reply.started": "2025-08-29T10:45:58.643537Z"
        },
        "id": "gp1dmFx5H1CO",
        "outputId": "d7af926b-6ca2-46d0-dacc-c81f6aa760dc",
        "trusted": true
      },
      "outputs": [
        {
          "name": "stdout",
          "output_type": "stream",
          "text": [
            "PyTorch Version: 2.6.0+cu124\n",
            "CUDA available: True\n",
            "Device Name: Tesla T4\n"
          ]
        }
      ],
      "source": [
        "\n",
        "import pandas as pd\n",
        "import numpy as np\n",
        "import torch\n",
        "from torch.utils.data import Dataset, DataLoader\n",
        "from transformers import AutoTokenizer, AutoModelForSequenceClassification\n",
        "from transformers import AutoTokenizer, AutoModelForSequenceClassification\n",
        "from torch.optim import AdamW \n",
        "from sklearn.model_selection import train_test_split\n",
        "from sklearn.metrics import accuracy_score, classification_report\n",
        "from tqdm.auto import tqdm\n",
        "import os\n",
        "\n",
        "print(\"PyTorch Version:\", torch.__version__)\n",
        "print(\"CUDA available:\", torch.cuda.is_available())\n",
        "if torch.cuda.is_available():\n",
        "    print(\"Device Name:\", torch.cuda.get_device_name(0))\n",
        "\n",
        "\n",
        "\n",
        "os.makedirs(\"./sentiment_model\", exist_ok=True)\n"
      ]
    },
    {
      "cell_type": "code",
      "execution_count": null,
      "metadata": {
        "execution": {
          "iopub.execute_input": "2025-08-29T11:12:26.341014Z",
          "iopub.status.busy": "2025-08-29T11:12:26.340711Z",
          "iopub.status.idle": "2025-08-29T11:12:26.34548Z",
          "shell.execute_reply": "2025-08-29T11:12:26.344912Z",
          "shell.execute_reply.started": "2025-08-29T11:12:26.340973Z"
        },
        "id": "9GOLgYUMH1Ca",
        "trusted": true
      },
      "outputs": [],
      "source": [
        "class Config:\n",
        "    MODEL_NAME = 'prajjwal1/bert-tiny'\n",
        "    DATA_PATH = '/kaggle/input/twitter-entity-sentiment-analysis/twitter_training.csv'\n",
        "    SAVE_PATH = './sentiment_model'\n",
        "\n",
        "    MAX_LEN = 128\n",
        "\n",
        "    EPOCHS = 100\n",
        "    BATCH_SIZE = 64\n",
        "    LEARNING_RATE = 1e-5 \n",
        "\n",
        "    DEVICE = torch.device('cuda' if torch.cuda.is_available() else 'cpu')\n",
        "\n",
        "config = Config()\n",
        "\n"
      ]
    },
    {
      "cell_type": "code",
      "execution_count": null,
      "metadata": {
        "execution": {
          "iopub.execute_input": "2025-08-29T11:12:26.831944Z",
          "iopub.status.busy": "2025-08-29T11:12:26.83141Z",
          "iopub.status.idle": "2025-08-29T11:12:27.131662Z",
          "shell.execute_reply": "2025-08-29T11:12:27.13105Z",
          "shell.execute_reply.started": "2025-08-29T11:12:26.831923Z"
        },
        "id": "roVuUXrlH1Cc",
        "outputId": "2f0b847c-611c-442c-8ae2-c8cfe415aeb0",
        "trusted": true
      },
      "outputs": [
        {
          "name": "stdout",
          "output_type": "stream",
          "text": [
            "\n",
            "--- Loading and Preparing Data ---\n",
            "Original data shape: (74682, 4)\n",
            "Original label distribution:\n",
            " label\n",
            "Negative      22542\n",
            "Positive      20832\n",
            "Neutral       18318\n",
            "Irrelevant    12990\n",
            "Name: count, dtype: int64\n",
            "\n",
            "Shape after removing 'Irrelevant' rows: (61692, 4)\n",
            "\n",
            "Final label distribution:\n",
            " label\n",
            "0    22358\n",
            "2    20655\n",
            "1    18108\n",
            "Name: count, dtype: int64\n",
            "\n",
            "Sample of preprocessed data:\n",
            "     id       entity  label                                               text\n",
            "0  2401  Borderlands      2  im getting on borderlands and i will murder yo...\n",
            "1  2401  Borderlands      2  I am coming to the borders and I will kill you...\n",
            "2  2401  Borderlands      2  im getting on borderlands and i will kill you ...\n",
            "3  2401  Borderlands      2  im coming on borderlands and i will murder you...\n",
            "4  2401  Borderlands      2  im getting on borderlands 2 and i will murder ...\n",
            "\n",
            "Training set size: 51952\n",
            "Validation set size: 9169\n"
          ]
        }
      ],
      "source": [
        "\n",
        "\n",
        "print(\"\\n--- Loading and Preparing Data ---\")\n",
        "df = pd.read_csv(config.DATA_PATH, header=None)\n",
        "df.columns = ['id', 'entity', 'label', 'text']\n",
        "\n",
        "print(f\"Original data shape: {df.shape}\")\n",
        "print(\"Original label distribution:\\n\", df['label'].value_counts())\n",
        "\n",
        "df = df[df['label'] != 'Irrelevant']\n",
        "print(f\"\\nShape after removing 'Irrelevant' rows: {df.shape}\")\n",
        "\n",
        "label_map = {'Positive': 2, 'Neutral': 1, 'Negative': 0}\n",
        "df['label'] = df['label'].map(label_map)\n",
        "\n",
        "df.dropna(subset=['text'], inplace=True)\n",
        "df = df.reset_index(drop=True)\n",
        "\n",
        "print(\"\\nFinal label distribution:\\n\", df['label'].value_counts())\n",
        "print(\"\\nSample of preprocessed data:\")\n",
        "print(df.head())\n",
        "\n",
        "train_df, val_df = train_test_split(\n",
        "    df,\n",
        "    test_size=0.15,\n",
        "    random_state=42,\n",
        "    stratify=df['label'] # Ensures label distribution is consistent across splits\n",
        ")\n",
        "\n",
        "print(f\"\\nTraining set size: {len(train_df)}\")\n",
        "print(f\"Validation set size: {len(val_df)}\")\n"
      ]
    },
    {
      "cell_type": "code",
      "execution_count": null,
      "metadata": {
        "execution": {
          "iopub.execute_input": "2025-08-29T11:12:27.133101Z",
          "iopub.status.busy": "2025-08-29T11:12:27.132765Z",
          "iopub.status.idle": "2025-08-29T11:12:27.599078Z",
          "shell.execute_reply": "2025-08-29T11:12:27.598426Z",
          "shell.execute_reply.started": "2025-08-29T11:12:27.133081Z"
        },
        "id": "e2iFpVlTH1Ci",
        "outputId": "4dd58f56-fd38-4068-8940-789abd9068db",
        "trusted": true
      },
      "outputs": [
        {
          "name": "stdout",
          "output_type": "stream",
          "text": [
            "\n",
            "--- Initializing Tokenizer and Datasets ---\n",
            "DataLoader setup complete.\n"
          ]
        }
      ],
      "source": [
        "\n",
        "print(\"\\n--- Initializing Tokenizer and Datasets ---\")\n",
        "tokenizer = AutoTokenizer.from_pretrained(config.MODEL_NAME)\n",
        "\n",
        "class SentimentClassificationDataset(Dataset):\n",
        "    def __init__(self, dataframe, tokenizer, max_len):\n",
        "        self.tokenizer = tokenizer\n",
        "        self.text = dataframe.text.tolist()\n",
        "        self.labels = dataframe.label.tolist()\n",
        "        self.max_len = max_len\n",
        "\n",
        "    def __len__(self):\n",
        "        return len(self.text)\n",
        "\n",
        "    def __getitem__(self, index):\n",
        "        text = str(self.text[index])\n",
        "        label = self.labels[index]\n",
        "\n",
        "        encoding = self.tokenizer.encode_plus(\n",
        "            text,\n",
        "            add_special_tokens=True,\n",
        "            max_length=self.max_len,\n",
        "            return_token_type_ids=False,\n",
        "            padding='max_length',\n",
        "            truncation=True,\n",
        "            return_attention_mask=True,\n",
        "            return_tensors='pt',\n",
        "        )\n",
        "\n",
        "        return {\n",
        "            'input_ids': encoding['input_ids'].flatten(),\n",
        "            'attention_mask': encoding['attention_mask'].flatten(),\n",
        "            'labels': torch.tensor(label, dtype=torch.long)\n",
        "        }\n",
        "\n",
        "train_dataset = SentimentClassificationDataset(train_df, tokenizer, config.MAX_LEN)\n",
        "val_dataset = SentimentClassificationDataset(val_df, tokenizer, config.MAX_LEN)\n",
        "train_loader = DataLoader(train_dataset, batch_size=config.BATCH_SIZE, shuffle=True, num_workers=2)\n",
        "val_loader = DataLoader(val_dataset, batch_size=config.BATCH_SIZE, shuffle=False, num_workers=2)\n",
        "print(\"DataLoader setup complete.\")\n",
        "\n"
      ]
    },
    {
      "cell_type": "code",
      "execution_count": null,
      "metadata": {
        "execution": {
          "iopub.execute_input": "2025-08-29T11:12:27.600579Z",
          "iopub.status.busy": "2025-08-29T11:12:27.600338Z",
          "iopub.status.idle": "2025-08-29T11:12:27.798096Z",
          "shell.execute_reply": "2025-08-29T11:12:27.797577Z",
          "shell.execute_reply.started": "2025-08-29T11:12:27.600561Z"
        },
        "id": "_Pc-pT8LH1Cr",
        "outputId": "f7ad48f4-11b1-4d4e-ed73-ee62be1b75a8",
        "trusted": true
      },
      "outputs": [
        {
          "name": "stderr",
          "output_type": "stream",
          "text": [
            "Some weights of BertForSequenceClassification were not initialized from the model checkpoint at prajjwal1/bert-tiny and are newly initialized: ['classifier.bias', 'classifier.weight']\n",
            "You should probably TRAIN this model on a down-stream task to be able to use it for predictions and inference.\n"
          ]
        },
        {
          "name": "stdout",
          "output_type": "stream",
          "text": [
            "\n",
            "--- Initializing Model ---\n",
            "Using 2 GPUs!\n"
          ]
        }
      ],
      "source": [
        "\n",
        "print(\"\\n--- Initializing Model ---\")\n",
        "model = AutoModelForSequenceClassification.from_pretrained(config.MODEL_NAME, num_labels=3)\n",
        "\n",
        "if torch.cuda.device_count() > 1:\n",
        "    print(f\"Using {torch.cuda.device_count()} GPUs!\")\n",
        "    model = torch.nn.DataParallel(model)\n",
        "\n",
        "model.to(config.DEVICE)\n",
        "\n",
        "optimizer = AdamW(model.parameters(), lr=config.LEARNING_RATE)\n",
        "\n",
        "loss_fn = torch.nn.CrossEntropyLoss().to(config.DEVICE)\n",
        "\n"
      ]
    },
    {
      "cell_type": "code",
      "execution_count": null,
      "metadata": {
        "execution": {
          "iopub.execute_input": "2025-08-29T11:12:27.798897Z",
          "iopub.status.busy": "2025-08-29T11:12:27.798703Z",
          "iopub.status.idle": "2025-08-29T11:12:27.807694Z",
          "shell.execute_reply": "2025-08-29T11:12:27.807046Z",
          "shell.execute_reply.started": "2025-08-29T11:12:27.798864Z"
        },
        "id": "9NXkq8AkH1Cs",
        "trusted": true
      },
      "outputs": [],
      "source": [
        "def train_epoch(model, data_loader, loss_fn, optimizer, device):\n",
        "    model.train()\n",
        "    total_loss = 0\n",
        "    for batch in tqdm(data_loader, desc=\"Training\", leave=False):\n",
        "        optimizer.zero_grad()\n",
        "        input_ids, attention_mask, labels = batch['input_ids'].to(device), batch['attention_mask'].to(device), batch['labels'].to(device)\n",
        "        outputs = model(input_ids=input_ids, attention_mask=attention_mask, labels=labels)\n",
        "        loss = outputs.loss\n",
        "        if isinstance(model, torch.nn.DataParallel): loss = loss.mean()\n",
        "        total_loss += loss.item()\n",
        "        loss.backward()\n",
        "        torch.nn.utils.clip_grad_norm_(model.parameters(), max_norm=1.0)\n",
        "        optimizer.step()\n",
        "    return total_loss / len(data_loader)\n",
        "\n",
        "def eval_model(model, data_loader, loss_fn, device):\n",
        "    model.eval()\n",
        "    total_loss = 0\n",
        "    all_preds, all_labels = [], []\n",
        "    with torch.no_grad():\n",
        "        for batch in tqdm(data_loader, desc=\"Evaluating\", leave=False):\n",
        "            input_ids, attention_mask, labels = batch['input_ids'].to(device), batch['attention_mask'].to(device), batch['labels'].to(device)\n",
        "            outputs = model(input_ids=input_ids, attention_mask=attention_mask, labels=labels)\n",
        "            loss = outputs.loss\n",
        "            if isinstance(model, torch.nn.DataParallel): loss = loss.mean()\n",
        "            total_loss += loss.item()\n",
        "            preds = torch.argmax(outputs.logits, dim=1)\n",
        "            all_preds.extend(preds.cpu().numpy())\n",
        "            all_labels.extend(labels.cpu().numpy())\n",
        "\n",
        "    accuracy = accuracy_score(all_labels, all_preds)\n",
        "    report_str = classification_report(all_labels, all_preds, target_names=['Negative', 'Neutral', 'Positive'], zero_division=0)\n",
        "\n",
        "\n",
        "    report_dict = classification_report(all_labels, all_preds, zero_division=0, output_dict=True)\n",
        "    weighted_f1 = report_dict['weighted avg']['f1-score']\n",
        "\n",
        "    return total_loss / len(data_loader), accuracy, report_str, weighted_f1\n",
        "\n"
      ]
    },
    {
      "cell_type": "code",
      "execution_count": null,
      "metadata": {
        "execution": {
          "iopub.execute_input": "2025-08-29T11:12:27.809596Z",
          "iopub.status.busy": "2025-08-29T11:12:27.809229Z",
          "iopub.status.idle": "2025-08-29T11:12:27.821462Z",
          "shell.execute_reply": "2025-08-29T11:12:27.820838Z",
          "shell.execute_reply.started": "2025-08-29T11:12:27.809578Z"
        },
        "id": "JBeNJPHYH1C4",
        "trusted": true
      },
      "outputs": [],
      "source": [
        "import os\n",
        "import warnings\n",
        "os.environ[\"TOKENIZERS_PARALLELISM\"] = \"false\"\n",
        "warnings.filterwarnings(\"ignore\", category=UserWarning)"
      ]
    },
    {
      "cell_type": "code",
      "execution_count": null,
      "metadata": {
        "colab": {
          "referenced_widgets": [
            "",
            "fae5fe420e10441a94c7a113f7834fcc",
            "367e111dde4540df904dd13cec59208b",
            "1a03dbbc8f6b48f0a7874555ddcbcd15",
            "f9a47a803098480cbe19653bf983298f",
            "fc0f36a30a54437a8d568cb22a2be54f",
            "6f7a240a94a5416f889be067440fccf9",
            "9769dcbdcd6748c3856b4fa845a5ef48",
            "569360974e58421d8e3b3050ca720d6e",
            "9a4bc0a10c9e4ee5a934fe574e6f6bc9",
            "66b1443e01484b6e8ca22dfa874dd3eb",
            "30d6078064c542f7841dae56a26fd640",
            "30679a17ec4a4adcb7bc582b997346dd",
            "8a62a6255a084359a0f270219aff1652",
            "6ca23ba6222d401a887dd163d2e84c56",
            "37af73f3d3434067b98ee54182decc2f",
            "9d7d9823cb084c00bf81988aa3b63e77",
            "f6c83058c40b4cc689a0b6daff44ba22",
            "9d6d8ce595144620862525c2d9858cda",
            "b87f358b3958404d914b90003198452b",
            "8ac0ffddc0f74388838676d1723f156d",
            "760e59eaa13f48b699decf1d8921212e",
            "90b711a367e04de5875f49f82e9c737e",
            "09f5ae77fe724393960627561744a0c3"
          ]
        },
        "execution": {
          "iopub.execute_input": "2025-08-29T11:12:27.822327Z",
          "iopub.status.busy": "2025-08-29T11:12:27.822085Z",
          "iopub.status.idle": "2025-08-29T12:23:17.490836Z",
          "shell.execute_reply": "2025-08-29T12:23:17.489865Z",
          "shell.execute_reply.started": "2025-08-29T11:12:27.822312Z"
        },
        "id": "Not3bjT-H1C4",
        "outputId": "532e7c2e-cf04-49f4-9ca7-d15bf6e7aee2",
        "trusted": true
      },
      "outputs": [
        {
          "name": "stdout",
          "output_type": "stream",
          "text": [
            "\n",
            "--- Starting Model Training ---\n",
            "\n",
            "--- Epoch 1/100 ---\n"
          ]
        },
        {
          "data": {
            "application/vnd.jupyter.widget-view+json": {
              "model_id": "",
              "version_major": 2,
              "version_minor": 0
            },
            "text/plain": [
              "Training:   0%|          | 0/812 [00:00<?, ?it/s]"
            ]
          },
          "metadata": {},
          "output_type": "display_data"
        },
        {
          "name": "stdout",
          "output_type": "stream",
          "text": [
            "Training Loss: 1.0437\n"
          ]
        },
        {
          "data": {
            "application/vnd.jupyter.widget-view+json": {
              "model_id": "",
              "version_major": 2,
              "version_minor": 0
            },
            "text/plain": [
              "Evaluating:   0%|          | 0/144 [00:00<?, ?it/s]"
            ]
          },
          "metadata": {},
          "output_type": "display_data"
        },
        {
          "name": "stdout",
          "output_type": "stream",
          "text": [
            "Validation Loss: 0.9480 | Validation Accuracy: 0.5891\n",
            "Classification Report:\n",
            "               precision    recall  f1-score   support\n",
            "\n",
            "    Negative       0.62      0.65      0.64      3354\n",
            "     Neutral       0.59      0.46      0.52      2716\n",
            "    Positive       0.56      0.63      0.59      3099\n",
            "\n",
            "    accuracy                           0.59      9169\n",
            "   macro avg       0.59      0.58      0.58      9169\n",
            "weighted avg       0.59      0.59      0.59      9169\n",
            "\n",
            "\n",
            "New best model saved to ./sentiment_model with accuracy: 0.5891\n",
            "\n",
            "--- Epoch 2/100 ---\n"
          ]
        },
        {
          "data": {
            "application/vnd.jupyter.widget-view+json": {
              "model_id": "",
              "version_major": 2,
              "version_minor": 0
            },
            "text/plain": [
              "Training:   0%|          | 0/812 [00:00<?, ?it/s]"
            ]
          },
          "metadata": {},
          "output_type": "display_data"
        },
        {
          "name": "stdout",
          "output_type": "stream",
          "text": [
            "Training Loss: 0.8943\n"
          ]
        },
        {
          "data": {
            "application/vnd.jupyter.widget-view+json": {
              "model_id": "",
              "version_major": 2,
              "version_minor": 0
            },
            "text/plain": [
              "Evaluating:   0%|          | 0/144 [00:00<?, ?it/s]"
            ]
          },
          "metadata": {},
          "output_type": "display_data"
        },
        {
          "name": "stdout",
          "output_type": "stream",
          "text": [
            "Validation Loss: 0.8236 | Validation Accuracy: 0.6501\n",
            "Classification Report:\n",
            "               precision    recall  f1-score   support\n",
            "\n",
            "    Negative       0.66      0.77      0.71      3354\n",
            "     Neutral       0.67      0.45      0.54      2716\n",
            "    Positive       0.63      0.70      0.66      3099\n",
            "\n",
            "    accuracy                           0.65      9169\n",
            "   macro avg       0.65      0.64      0.64      9169\n",
            "weighted avg       0.65      0.65      0.64      9169\n",
            "\n",
            "\n",
            "New best model saved to ./sentiment_model with accuracy: 0.6501\n",
            "\n",
            "--- Epoch 3/100 ---\n"
          ]
        },
        {
          "data": {
            "application/vnd.jupyter.widget-view+json": {
              "model_id": "",
              "version_major": 2,
              "version_minor": 0
            },
            "text/plain": [
              "Training:   0%|          | 0/812 [00:00<?, ?it/s]"
            ]
          },
          "metadata": {},
          "output_type": "display_data"
        },
        {
          "name": "stdout",
          "output_type": "stream",
          "text": [
            "Training Loss: 0.8145\n"
          ]
        },
        {
          "data": {
            "application/vnd.jupyter.widget-view+json": {
              "model_id": "",
              "version_major": 2,
              "version_minor": 0
            },
            "text/plain": [
              "Evaluating:   0%|          | 0/144 [00:00<?, ?it/s]"
            ]
          },
          "metadata": {},
          "output_type": "display_data"
        },
        {
          "name": "stdout",
          "output_type": "stream",
          "text": [
            "Validation Loss: 0.7800 | Validation Accuracy: 0.6695\n",
            "Classification Report:\n",
            "               precision    recall  f1-score   support\n",
            "\n",
            "    Negative       0.68      0.78      0.73      3354\n",
            "     Neutral       0.68      0.49      0.57      2716\n",
            "    Positive       0.65      0.71      0.68      3099\n",
            "\n",
            "    accuracy                           0.67      9169\n",
            "   macro avg       0.67      0.66      0.66      9169\n",
            "weighted avg       0.67      0.67      0.66      9169\n",
            "\n",
            "\n",
            "New best model saved to ./sentiment_model with accuracy: 0.6695\n",
            "\n",
            "--- Epoch 4/100 ---\n"
          ]
        },
        {
          "data": {
            "application/vnd.jupyter.widget-view+json": {
              "model_id": "",
              "version_major": 2,
              "version_minor": 0
            },
            "text/plain": [
              "Training:   0%|          | 0/812 [00:00<?, ?it/s]"
            ]
          },
          "metadata": {},
          "output_type": "display_data"
        },
        {
          "name": "stdout",
          "output_type": "stream",
          "text": [
            "Training Loss: 0.7739\n"
          ]
        },
        {
          "data": {
            "application/vnd.jupyter.widget-view+json": {
              "model_id": "",
              "version_major": 2,
              "version_minor": 0
            },
            "text/plain": [
              "Evaluating:   0%|          | 0/144 [00:00<?, ?it/s]"
            ]
          },
          "metadata": {},
          "output_type": "display_data"
        },
        {
          "name": "stdout",
          "output_type": "stream",
          "text": [
            "Validation Loss: 0.7459 | Validation Accuracy: 0.6905\n",
            "Classification Report:\n",
            "               precision    recall  f1-score   support\n",
            "\n",
            "    Negative       0.69      0.81      0.75      3354\n",
            "     Neutral       0.71      0.51      0.59      2716\n",
            "    Positive       0.68      0.72      0.70      3099\n",
            "\n",
            "    accuracy                           0.69      9169\n",
            "   macro avg       0.69      0.68      0.68      9169\n",
            "weighted avg       0.69      0.69      0.68      9169\n",
            "\n",
            "\n",
            "New best model saved to ./sentiment_model with accuracy: 0.6905\n",
            "\n",
            "--- Epoch 5/100 ---\n"
          ]
        },
        {
          "data": {
            "application/vnd.jupyter.widget-view+json": {
              "model_id": "",
              "version_major": 2,
              "version_minor": 0
            },
            "text/plain": [
              "Training:   0%|          | 0/812 [00:00<?, ?it/s]"
            ]
          },
          "metadata": {},
          "output_type": "display_data"
        },
        {
          "name": "stdout",
          "output_type": "stream",
          "text": [
            "Training Loss: 0.7427\n"
          ]
        },
        {
          "data": {
            "application/vnd.jupyter.widget-view+json": {
              "model_id": "",
              "version_major": 2,
              "version_minor": 0
            },
            "text/plain": [
              "Evaluating:   0%|          | 0/144 [00:00<?, ?it/s]"
            ]
          },
          "metadata": {},
          "output_type": "display_data"
        },
        {
          "name": "stdout",
          "output_type": "stream",
          "text": [
            "Validation Loss: 0.7157 | Validation Accuracy: 0.7055\n",
            "Classification Report:\n",
            "               precision    recall  f1-score   support\n",
            "\n",
            "    Negative       0.71      0.80      0.76      3354\n",
            "     Neutral       0.72      0.55      0.62      2716\n",
            "    Positive       0.69      0.73      0.71      3099\n",
            "\n",
            "    accuracy                           0.71      9169\n",
            "   macro avg       0.71      0.70      0.70      9169\n",
            "weighted avg       0.71      0.71      0.70      9169\n",
            "\n",
            "\n",
            "New best model saved to ./sentiment_model with accuracy: 0.7055\n",
            "\n",
            "--- Epoch 6/100 ---\n"
          ]
        },
        {
          "data": {
            "application/vnd.jupyter.widget-view+json": {
              "model_id": "",
              "version_major": 2,
              "version_minor": 0
            },
            "text/plain": [
              "Training:   0%|          | 0/812 [00:00<?, ?it/s]"
            ]
          },
          "metadata": {},
          "output_type": "display_data"
        },
        {
          "name": "stdout",
          "output_type": "stream",
          "text": [
            "Training Loss: 0.7118\n"
          ]
        },
        {
          "data": {
            "application/vnd.jupyter.widget-view+json": {
              "model_id": "",
              "version_major": 2,
              "version_minor": 0
            },
            "text/plain": [
              "Evaluating:   0%|          | 0/144 [00:00<?, ?it/s]"
            ]
          },
          "metadata": {},
          "output_type": "display_data"
        },
        {
          "name": "stdout",
          "output_type": "stream",
          "text": [
            "Validation Loss: 0.6878 | Validation Accuracy: 0.7171\n",
            "Classification Report:\n",
            "               precision    recall  f1-score   support\n",
            "\n",
            "    Negative       0.72      0.81      0.77      3354\n",
            "     Neutral       0.74      0.56      0.64      2716\n",
            "    Positive       0.69      0.75      0.72      3099\n",
            "\n",
            "    accuracy                           0.72      9169\n",
            "   macro avg       0.72      0.71      0.71      9169\n",
            "weighted avg       0.72      0.72      0.71      9169\n",
            "\n",
            "\n",
            "New best model saved to ./sentiment_model with accuracy: 0.7171\n",
            "\n",
            "--- Epoch 7/100 ---\n"
          ]
        },
        {
          "data": {
            "application/vnd.jupyter.widget-view+json": {
              "model_id": "",
              "version_major": 2,
              "version_minor": 0
            },
            "text/plain": [
              "Training:   0%|          | 0/812 [00:00<?, ?it/s]"
            ]
          },
          "metadata": {},
          "output_type": "display_data"
        },
        {
          "name": "stdout",
          "output_type": "stream",
          "text": [
            "Training Loss: 0.6858\n"
          ]
        },
        {
          "data": {
            "application/vnd.jupyter.widget-view+json": {
              "model_id": "",
              "version_major": 2,
              "version_minor": 0
            },
            "text/plain": [
              "Evaluating:   0%|          | 0/144 [00:00<?, ?it/s]"
            ]
          },
          "metadata": {},
          "output_type": "display_data"
        },
        {
          "name": "stdout",
          "output_type": "stream",
          "text": [
            "Validation Loss: 0.6649 | Validation Accuracy: 0.7295\n",
            "Classification Report:\n",
            "               precision    recall  f1-score   support\n",
            "\n",
            "    Negative       0.74      0.82      0.78      3354\n",
            "     Neutral       0.71      0.63      0.67      2716\n",
            "    Positive       0.73      0.72      0.72      3099\n",
            "\n",
            "    accuracy                           0.73      9169\n",
            "   macro avg       0.73      0.72      0.72      9169\n",
            "weighted avg       0.73      0.73      0.73      9169\n",
            "\n",
            "\n",
            "New best model saved to ./sentiment_model with accuracy: 0.7295\n",
            "\n",
            "--- Epoch 8/100 ---\n"
          ]
        },
        {
          "data": {
            "application/vnd.jupyter.widget-view+json": {
              "model_id": "",
              "version_major": 2,
              "version_minor": 0
            },
            "text/plain": [
              "Training:   0%|          | 0/812 [00:00<?, ?it/s]"
            ]
          },
          "metadata": {},
          "output_type": "display_data"
        },
        {
          "name": "stdout",
          "output_type": "stream",
          "text": [
            "Training Loss: 0.6598\n"
          ]
        },
        {
          "data": {
            "application/vnd.jupyter.widget-view+json": {
              "model_id": "",
              "version_major": 2,
              "version_minor": 0
            },
            "text/plain": [
              "Evaluating:   0%|          | 0/144 [00:00<?, ?it/s]"
            ]
          },
          "metadata": {},
          "output_type": "display_data"
        },
        {
          "name": "stdout",
          "output_type": "stream",
          "text": [
            "Validation Loss: 0.6366 | Validation Accuracy: 0.7412\n",
            "Classification Report:\n",
            "               precision    recall  f1-score   support\n",
            "\n",
            "    Negative       0.78      0.80      0.79      3354\n",
            "     Neutral       0.71      0.65      0.68      2716\n",
            "    Positive       0.72      0.76      0.74      3099\n",
            "\n",
            "    accuracy                           0.74      9169\n",
            "   macro avg       0.74      0.74      0.74      9169\n",
            "weighted avg       0.74      0.74      0.74      9169\n",
            "\n",
            "\n",
            "New best model saved to ./sentiment_model with accuracy: 0.7412\n",
            "\n",
            "--- Epoch 9/100 ---\n"
          ]
        },
        {
          "data": {
            "application/vnd.jupyter.widget-view+json": {
              "model_id": "",
              "version_major": 2,
              "version_minor": 0
            },
            "text/plain": [
              "Training:   0%|          | 0/812 [00:00<?, ?it/s]"
            ]
          },
          "metadata": {},
          "output_type": "display_data"
        },
        {
          "name": "stdout",
          "output_type": "stream",
          "text": [
            "Training Loss: 0.6333\n"
          ]
        },
        {
          "data": {
            "application/vnd.jupyter.widget-view+json": {
              "model_id": "",
              "version_major": 2,
              "version_minor": 0
            },
            "text/plain": [
              "Evaluating:   0%|          | 0/144 [00:00<?, ?it/s]"
            ]
          },
          "metadata": {},
          "output_type": "display_data"
        },
        {
          "name": "stdout",
          "output_type": "stream",
          "text": [
            "Validation Loss: 0.6123 | Validation Accuracy: 0.7545\n",
            "Classification Report:\n",
            "               precision    recall  f1-score   support\n",
            "\n",
            "    Negative       0.79      0.82      0.80      3354\n",
            "     Neutral       0.74      0.66      0.70      2716\n",
            "    Positive       0.73      0.77      0.75      3099\n",
            "\n",
            "    accuracy                           0.75      9169\n",
            "   macro avg       0.75      0.75      0.75      9169\n",
            "weighted avg       0.75      0.75      0.75      9169\n",
            "\n",
            "\n",
            "New best model saved to ./sentiment_model with accuracy: 0.7545\n",
            "\n",
            "--- Epoch 10/100 ---\n"
          ]
        },
        {
          "data": {
            "application/vnd.jupyter.widget-view+json": {
              "model_id": "",
              "version_major": 2,
              "version_minor": 0
            },
            "text/plain": [
              "Training:   0%|          | 0/812 [00:00<?, ?it/s]"
            ]
          },
          "metadata": {},
          "output_type": "display_data"
        },
        {
          "name": "stdout",
          "output_type": "stream",
          "text": [
            "Training Loss: 0.6084\n"
          ]
        },
        {
          "data": {
            "application/vnd.jupyter.widget-view+json": {
              "model_id": "",
              "version_major": 2,
              "version_minor": 0
            },
            "text/plain": [
              "Evaluating:   0%|          | 0/144 [00:00<?, ?it/s]"
            ]
          },
          "metadata": {},
          "output_type": "display_data"
        },
        {
          "name": "stdout",
          "output_type": "stream",
          "text": [
            "Validation Loss: 0.5902 | Validation Accuracy: 0.7631\n",
            "Classification Report:\n",
            "               precision    recall  f1-score   support\n",
            "\n",
            "    Negative       0.80      0.82      0.81      3354\n",
            "     Neutral       0.76      0.66      0.70      2716\n",
            "    Positive       0.73      0.79      0.76      3099\n",
            "\n",
            "    accuracy                           0.76      9169\n",
            "   macro avg       0.76      0.76      0.76      9169\n",
            "weighted avg       0.76      0.76      0.76      9169\n",
            "\n",
            "\n",
            "New best model saved to ./sentiment_model with accuracy: 0.7631\n",
            "\n",
            "--- Epoch 11/100 ---\n"
          ]
        },
        {
          "data": {
            "application/vnd.jupyter.widget-view+json": {
              "model_id": "",
              "version_major": 2,
              "version_minor": 0
            },
            "text/plain": [
              "Training:   0%|          | 0/812 [00:00<?, ?it/s]"
            ]
          },
          "metadata": {},
          "output_type": "display_data"
        },
        {
          "name": "stdout",
          "output_type": "stream",
          "text": [
            "Training Loss: 0.5807\n"
          ]
        },
        {
          "data": {
            "application/vnd.jupyter.widget-view+json": {
              "model_id": "",
              "version_major": 2,
              "version_minor": 0
            },
            "text/plain": [
              "Evaluating:   0%|          | 0/144 [00:00<?, ?it/s]"
            ]
          },
          "metadata": {},
          "output_type": "display_data"
        },
        {
          "name": "stdout",
          "output_type": "stream",
          "text": [
            "Validation Loss: 0.5704 | Validation Accuracy: 0.7742\n",
            "Classification Report:\n",
            "               precision    recall  f1-score   support\n",
            "\n",
            "    Negative       0.83      0.82      0.82      3354\n",
            "     Neutral       0.72      0.74      0.73      2716\n",
            "    Positive       0.77      0.76      0.76      3099\n",
            "\n",
            "    accuracy                           0.77      9169\n",
            "   macro avg       0.77      0.77      0.77      9169\n",
            "weighted avg       0.77      0.77      0.77      9169\n",
            "\n",
            "\n",
            "New best model saved to ./sentiment_model with accuracy: 0.7742\n",
            "\n",
            "--- Epoch 12/100 ---\n"
          ]
        },
        {
          "data": {
            "application/vnd.jupyter.widget-view+json": {
              "model_id": "",
              "version_major": 2,
              "version_minor": 0
            },
            "text/plain": [
              "Training:   0%|          | 0/812 [00:00<?, ?it/s]"
            ]
          },
          "metadata": {},
          "output_type": "display_data"
        },
        {
          "name": "stdout",
          "output_type": "stream",
          "text": [
            "Training Loss: 0.5573\n"
          ]
        },
        {
          "data": {
            "application/vnd.jupyter.widget-view+json": {
              "model_id": "",
              "version_major": 2,
              "version_minor": 0
            },
            "text/plain": [
              "Evaluating:   0%|          | 0/144 [00:00<?, ?it/s]"
            ]
          },
          "metadata": {},
          "output_type": "display_data"
        },
        {
          "name": "stdout",
          "output_type": "stream",
          "text": [
            "Validation Loss: 0.5419 | Validation Accuracy: 0.7849\n",
            "Classification Report:\n",
            "               precision    recall  f1-score   support\n",
            "\n",
            "    Negative       0.82      0.84      0.83      3354\n",
            "     Neutral       0.77      0.70      0.74      2716\n",
            "    Positive       0.76      0.80      0.78      3099\n",
            "\n",
            "    accuracy                           0.78      9169\n",
            "   macro avg       0.78      0.78      0.78      9169\n",
            "weighted avg       0.78      0.78      0.78      9169\n",
            "\n",
            "\n",
            "New best model saved to ./sentiment_model with accuracy: 0.7849\n",
            "\n",
            "--- Epoch 13/100 ---\n"
          ]
        },
        {
          "data": {
            "application/vnd.jupyter.widget-view+json": {
              "model_id": "",
              "version_major": 2,
              "version_minor": 0
            },
            "text/plain": [
              "Training:   0%|          | 0/812 [00:00<?, ?it/s]"
            ]
          },
          "metadata": {},
          "output_type": "display_data"
        },
        {
          "name": "stdout",
          "output_type": "stream",
          "text": [
            "Training Loss: 0.5333\n"
          ]
        },
        {
          "data": {
            "application/vnd.jupyter.widget-view+json": {
              "model_id": "fae5fe420e10441a94c7a113f7834fcc",
              "version_major": 2,
              "version_minor": 0
            },
            "text/plain": [
              "Evaluating:   0%|          | 0/144 [00:00<?, ?it/s]"
            ]
          },
          "metadata": {},
          "output_type": "display_data"
        },
        {
          "name": "stdout",
          "output_type": "stream",
          "text": [
            "Validation Loss: 0.5226 | Validation Accuracy: 0.7938\n",
            "Classification Report:\n",
            "               precision    recall  f1-score   support\n",
            "\n",
            "    Negative       0.83      0.84      0.83      3354\n",
            "     Neutral       0.78      0.72      0.75      2716\n",
            "    Positive       0.77      0.81      0.79      3099\n",
            "\n",
            "    accuracy                           0.79      9169\n",
            "   macro avg       0.79      0.79      0.79      9169\n",
            "weighted avg       0.79      0.79      0.79      9169\n",
            "\n",
            "\n",
            "New best model saved to ./sentiment_model with accuracy: 0.7938\n",
            "\n",
            "--- Epoch 14/100 ---\n"
          ]
        },
        {
          "data": {
            "application/vnd.jupyter.widget-view+json": {
              "model_id": "367e111dde4540df904dd13cec59208b",
              "version_major": 2,
              "version_minor": 0
            },
            "text/plain": [
              "Training:   0%|          | 0/812 [00:00<?, ?it/s]"
            ]
          },
          "metadata": {},
          "output_type": "display_data"
        },
        {
          "name": "stdout",
          "output_type": "stream",
          "text": [
            "Training Loss: 0.5107\n"
          ]
        },
        {
          "data": {
            "application/vnd.jupyter.widget-view+json": {
              "model_id": "1a03dbbc8f6b48f0a7874555ddcbcd15",
              "version_major": 2,
              "version_minor": 0
            },
            "text/plain": [
              "Evaluating:   0%|          | 0/144 [00:00<?, ?it/s]"
            ]
          },
          "metadata": {},
          "output_type": "display_data"
        },
        {
          "name": "stdout",
          "output_type": "stream",
          "text": [
            "Validation Loss: 0.5056 | Validation Accuracy: 0.8031\n",
            "Classification Report:\n",
            "               precision    recall  f1-score   support\n",
            "\n",
            "    Negative       0.82      0.86      0.84      3354\n",
            "     Neutral       0.78      0.75      0.76      2716\n",
            "    Positive       0.80      0.79      0.80      3099\n",
            "\n",
            "    accuracy                           0.80      9169\n",
            "   macro avg       0.80      0.80      0.80      9169\n",
            "weighted avg       0.80      0.80      0.80      9169\n",
            "\n",
            "\n",
            "New best model saved to ./sentiment_model with accuracy: 0.8031\n",
            "\n",
            "--- Epoch 15/100 ---\n"
          ]
        },
        {
          "data": {
            "application/vnd.jupyter.widget-view+json": {
              "model_id": "f9a47a803098480cbe19653bf983298f",
              "version_major": 2,
              "version_minor": 0
            },
            "text/plain": [
              "Training:   0%|          | 0/812 [00:00<?, ?it/s]"
            ]
          },
          "metadata": {},
          "output_type": "display_data"
        },
        {
          "name": "stdout",
          "output_type": "stream",
          "text": [
            "Training Loss: 0.4901\n"
          ]
        },
        {
          "data": {
            "application/vnd.jupyter.widget-view+json": {
              "model_id": "fc0f36a30a54437a8d568cb22a2be54f",
              "version_major": 2,
              "version_minor": 0
            },
            "text/plain": [
              "Evaluating:   0%|          | 0/144 [00:00<?, ?it/s]"
            ]
          },
          "metadata": {},
          "output_type": "display_data"
        },
        {
          "name": "stdout",
          "output_type": "stream",
          "text": [
            "Validation Loss: 0.4873 | Validation Accuracy: 0.8109\n",
            "Classification Report:\n",
            "               precision    recall  f1-score   support\n",
            "\n",
            "    Negative       0.84      0.85      0.85      3354\n",
            "     Neutral       0.78      0.77      0.78      2716\n",
            "    Positive       0.80      0.81      0.80      3099\n",
            "\n",
            "    accuracy                           0.81      9169\n",
            "   macro avg       0.81      0.81      0.81      9169\n",
            "weighted avg       0.81      0.81      0.81      9169\n",
            "\n",
            "\n",
            "New best model saved to ./sentiment_model with accuracy: 0.8109\n",
            "\n",
            "--- Epoch 16/100 ---\n"
          ]
        },
        {
          "data": {
            "application/vnd.jupyter.widget-view+json": {
              "model_id": "6f7a240a94a5416f889be067440fccf9",
              "version_major": 2,
              "version_minor": 0
            },
            "text/plain": [
              "Training:   0%|          | 0/812 [00:00<?, ?it/s]"
            ]
          },
          "metadata": {},
          "output_type": "display_data"
        },
        {
          "name": "stdout",
          "output_type": "stream",
          "text": [
            "Training Loss: 0.4656\n"
          ]
        },
        {
          "data": {
            "application/vnd.jupyter.widget-view+json": {
              "model_id": "9769dcbdcd6748c3856b4fa845a5ef48",
              "version_major": 2,
              "version_minor": 0
            },
            "text/plain": [
              "Evaluating:   0%|          | 0/144 [00:00<?, ?it/s]"
            ]
          },
          "metadata": {},
          "output_type": "display_data"
        },
        {
          "name": "stdout",
          "output_type": "stream",
          "text": [
            "Validation Loss: 0.4797 | Validation Accuracy: 0.8139\n",
            "Classification Report:\n",
            "               precision    recall  f1-score   support\n",
            "\n",
            "    Negative       0.87      0.82      0.85      3354\n",
            "     Neutral       0.77      0.80      0.78      2716\n",
            "    Positive       0.80      0.82      0.81      3099\n",
            "\n",
            "    accuracy                           0.81      9169\n",
            "   macro avg       0.81      0.81      0.81      9169\n",
            "weighted avg       0.82      0.81      0.81      9169\n",
            "\n",
            "\n",
            "New best model saved to ./sentiment_model with accuracy: 0.8139\n",
            "\n",
            "--- Epoch 17/100 ---\n"
          ]
        },
        {
          "data": {
            "application/vnd.jupyter.widget-view+json": {
              "model_id": "569360974e58421d8e3b3050ca720d6e",
              "version_major": 2,
              "version_minor": 0
            },
            "text/plain": [
              "Training:   0%|          | 0/812 [00:00<?, ?it/s]"
            ]
          },
          "metadata": {},
          "output_type": "display_data"
        },
        {
          "name": "stdout",
          "output_type": "stream",
          "text": [
            "Training Loss: 0.4524\n"
          ]
        },
        {
          "data": {
            "application/vnd.jupyter.widget-view+json": {
              "model_id": "9a4bc0a10c9e4ee5a934fe574e6f6bc9",
              "version_major": 2,
              "version_minor": 0
            },
            "text/plain": [
              "Evaluating:   0%|          | 0/144 [00:00<?, ?it/s]"
            ]
          },
          "metadata": {},
          "output_type": "display_data"
        },
        {
          "name": "stdout",
          "output_type": "stream",
          "text": [
            "Validation Loss: 0.4579 | Validation Accuracy: 0.8241\n",
            "Classification Report:\n",
            "               precision    recall  f1-score   support\n",
            "\n",
            "    Negative       0.86      0.85      0.86      3354\n",
            "     Neutral       0.81      0.78      0.80      2716\n",
            "    Positive       0.79      0.84      0.81      3099\n",
            "\n",
            "    accuracy                           0.82      9169\n",
            "   macro avg       0.82      0.82      0.82      9169\n",
            "weighted avg       0.82      0.82      0.82      9169\n",
            "\n",
            "\n",
            "New best model saved to ./sentiment_model with accuracy: 0.8241\n",
            "\n",
            "--- Epoch 18/100 ---\n"
          ]
        },
        {
          "data": {
            "application/vnd.jupyter.widget-view+json": {
              "model_id": "66b1443e01484b6e8ca22dfa874dd3eb",
              "version_major": 2,
              "version_minor": 0
            },
            "text/plain": [
              "Training:   0%|          | 0/812 [00:00<?, ?it/s]"
            ]
          },
          "metadata": {},
          "output_type": "display_data"
        },
        {
          "name": "stdout",
          "output_type": "stream",
          "text": [
            "Training Loss: 0.4300\n"
          ]
        },
        {
          "data": {
            "application/vnd.jupyter.widget-view+json": {
              "model_id": "30d6078064c542f7841dae56a26fd640",
              "version_major": 2,
              "version_minor": 0
            },
            "text/plain": [
              "Evaluating:   0%|          | 0/144 [00:00<?, ?it/s]"
            ]
          },
          "metadata": {},
          "output_type": "display_data"
        },
        {
          "name": "stdout",
          "output_type": "stream",
          "text": [
            "Validation Loss: 0.4437 | Validation Accuracy: 0.8312\n",
            "Classification Report:\n",
            "               precision    recall  f1-score   support\n",
            "\n",
            "    Negative       0.86      0.86      0.86      3354\n",
            "     Neutral       0.81      0.80      0.80      2716\n",
            "    Positive       0.82      0.83      0.82      3099\n",
            "\n",
            "    accuracy                           0.83      9169\n",
            "   macro avg       0.83      0.83      0.83      9169\n",
            "weighted avg       0.83      0.83      0.83      9169\n",
            "\n",
            "\n",
            "New best model saved to ./sentiment_model with accuracy: 0.8312\n",
            "\n",
            "--- Epoch 19/100 ---\n"
          ]
        },
        {
          "data": {
            "application/vnd.jupyter.widget-view+json": {
              "model_id": "30679a17ec4a4adcb7bc582b997346dd",
              "version_major": 2,
              "version_minor": 0
            },
            "text/plain": [
              "Training:   0%|          | 0/812 [00:00<?, ?it/s]"
            ]
          },
          "metadata": {},
          "output_type": "display_data"
        },
        {
          "name": "stdout",
          "output_type": "stream",
          "text": [
            "Training Loss: 0.4129\n"
          ]
        },
        {
          "data": {
            "application/vnd.jupyter.widget-view+json": {
              "model_id": "8a62a6255a084359a0f270219aff1652",
              "version_major": 2,
              "version_minor": 0
            },
            "text/plain": [
              "Evaluating:   0%|          | 0/144 [00:00<?, ?it/s]"
            ]
          },
          "metadata": {},
          "output_type": "display_data"
        },
        {
          "name": "stdout",
          "output_type": "stream",
          "text": [
            "Validation Loss: 0.4325 | Validation Accuracy: 0.8379\n",
            "Classification Report:\n",
            "               precision    recall  f1-score   support\n",
            "\n",
            "    Negative       0.86      0.87      0.87      3354\n",
            "     Neutral       0.81      0.81      0.81      2716\n",
            "    Positive       0.84      0.82      0.83      3099\n",
            "\n",
            "    accuracy                           0.84      9169\n",
            "   macro avg       0.84      0.84      0.84      9169\n",
            "weighted avg       0.84      0.84      0.84      9169\n",
            "\n",
            "\n",
            "New best model saved to ./sentiment_model with accuracy: 0.8379\n",
            "\n",
            "--- Epoch 20/100 ---\n"
          ]
        },
        {
          "data": {
            "application/vnd.jupyter.widget-view+json": {
              "model_id": "6ca23ba6222d401a887dd163d2e84c56",
              "version_major": 2,
              "version_minor": 0
            },
            "text/plain": [
              "Training:   0%|          | 0/812 [00:00<?, ?it/s]"
            ]
          },
          "metadata": {},
          "output_type": "display_data"
        },
        {
          "name": "stdout",
          "output_type": "stream",
          "text": [
            "Training Loss: 0.3997\n"
          ]
        },
        {
          "data": {
            "application/vnd.jupyter.widget-view+json": {
              "model_id": "37af73f3d3434067b98ee54182decc2f",
              "version_major": 2,
              "version_minor": 0
            },
            "text/plain": [
              "Evaluating:   0%|          | 0/144 [00:00<?, ?it/s]"
            ]
          },
          "metadata": {},
          "output_type": "display_data"
        },
        {
          "name": "stdout",
          "output_type": "stream",
          "text": [
            "Validation Loss: 0.4153 | Validation Accuracy: 0.8455\n",
            "Classification Report:\n",
            "               precision    recall  f1-score   support\n",
            "\n",
            "    Negative       0.88      0.87      0.87      3354\n",
            "     Neutral       0.82      0.82      0.82      2716\n",
            "    Positive       0.84      0.84      0.84      3099\n",
            "\n",
            "    accuracy                           0.85      9169\n",
            "   macro avg       0.84      0.84      0.84      9169\n",
            "weighted avg       0.85      0.85      0.85      9169\n",
            "\n",
            "\n",
            "New best model saved to ./sentiment_model with accuracy: 0.8455\n",
            "\n",
            "--- Epoch 21/100 ---\n"
          ]
        },
        {
          "data": {
            "application/vnd.jupyter.widget-view+json": {
              "model_id": "9d7d9823cb084c00bf81988aa3b63e77",
              "version_major": 2,
              "version_minor": 0
            },
            "text/plain": [
              "Training:   0%|          | 0/812 [00:00<?, ?it/s]"
            ]
          },
          "metadata": {},
          "output_type": "display_data"
        },
        {
          "name": "stdout",
          "output_type": "stream",
          "text": [
            "Training Loss: 0.3866\n"
          ]
        },
        {
          "data": {
            "application/vnd.jupyter.widget-view+json": {
              "model_id": "f6c83058c40b4cc689a0b6daff44ba22",
              "version_major": 2,
              "version_minor": 0
            },
            "text/plain": [
              "Evaluating:   0%|          | 0/144 [00:00<?, ?it/s]"
            ]
          },
          "metadata": {},
          "output_type": "display_data"
        },
        {
          "name": "stdout",
          "output_type": "stream",
          "text": [
            "Validation Loss: 0.4046 | Validation Accuracy: 0.8495\n",
            "Classification Report:\n",
            "               precision    recall  f1-score   support\n",
            "\n",
            "    Negative       0.88      0.88      0.88      3354\n",
            "     Neutral       0.83      0.82      0.82      2716\n",
            "    Positive       0.84      0.85      0.84      3099\n",
            "\n",
            "    accuracy                           0.85      9169\n",
            "   macro avg       0.85      0.85      0.85      9169\n",
            "weighted avg       0.85      0.85      0.85      9169\n",
            "\n",
            "\n",
            "New best model saved to ./sentiment_model with accuracy: 0.8495\n",
            "\n",
            "--- Epoch 22/100 ---\n"
          ]
        },
        {
          "data": {
            "application/vnd.jupyter.widget-view+json": {
              "model_id": "9d6d8ce595144620862525c2d9858cda",
              "version_major": 2,
              "version_minor": 0
            },
            "text/plain": [
              "Training:   0%|          | 0/812 [00:00<?, ?it/s]"
            ]
          },
          "metadata": {},
          "output_type": "display_data"
        },
        {
          "name": "stdout",
          "output_type": "stream",
          "text": [
            "Training Loss: 0.3687\n"
          ]
        },
        {
          "data": {
            "application/vnd.jupyter.widget-view+json": {
              "model_id": "b87f358b3958404d914b90003198452b",
              "version_major": 2,
              "version_minor": 0
            },
            "text/plain": [
              "Evaluating:   0%|          | 0/144 [00:00<?, ?it/s]"
            ]
          },
          "metadata": {},
          "output_type": "display_data"
        },
        {
          "name": "stdout",
          "output_type": "stream",
          "text": [
            "Validation Loss: 0.3983 | Validation Accuracy: 0.8519\n",
            "Classification Report:\n",
            "               precision    recall  f1-score   support\n",
            "\n",
            "    Negative       0.89      0.87      0.88      3354\n",
            "     Neutral       0.83      0.83      0.83      2716\n",
            "    Positive       0.83      0.85      0.84      3099\n",
            "\n",
            "    accuracy                           0.85      9169\n",
            "   macro avg       0.85      0.85      0.85      9169\n",
            "weighted avg       0.85      0.85      0.85      9169\n",
            "\n",
            "\n",
            "New best model saved to ./sentiment_model with accuracy: 0.8519\n",
            "\n",
            "--- Epoch 23/100 ---\n"
          ]
        },
        {
          "data": {
            "application/vnd.jupyter.widget-view+json": {
              "model_id": "8ac0ffddc0f74388838676d1723f156d",
              "version_major": 2,
              "version_minor": 0
            },
            "text/plain": [
              "Training:   0%|          | 0/812 [00:00<?, ?it/s]"
            ]
          },
          "metadata": {},
          "output_type": "display_data"
        },
        {
          "name": "stdout",
          "output_type": "stream",
          "text": [
            "Training Loss: 0.3555\n"
          ]
        },
        {
          "data": {
            "application/vnd.jupyter.widget-view+json": {
              "model_id": "760e59eaa13f48b699decf1d8921212e",
              "version_major": 2,
              "version_minor": 0
            },
            "text/plain": [
              "Evaluating:   0%|          | 0/144 [00:00<?, ?it/s]"
            ]
          },
          "metadata": {},
          "output_type": "display_data"
        },
        {
          "name": "stdout",
          "output_type": "stream",
          "text": [
            "Validation Loss: 0.3899 | Validation Accuracy: 0.8571\n",
            "Classification Report:\n",
            "               precision    recall  f1-score   support\n",
            "\n",
            "    Negative       0.89      0.88      0.89      3354\n",
            "     Neutral       0.82      0.85      0.83      2716\n",
            "    Positive       0.86      0.84      0.85      3099\n",
            "\n",
            "    accuracy                           0.86      9169\n",
            "   macro avg       0.86      0.86      0.86      9169\n",
            "weighted avg       0.86      0.86      0.86      9169\n",
            "\n",
            "\n",
            "New best model saved to ./sentiment_model with accuracy: 0.8571\n",
            "\n",
            "--- Epoch 24/100 ---\n"
          ]
        },
        {
          "data": {
            "application/vnd.jupyter.widget-view+json": {
              "model_id": "90b711a367e04de5875f49f82e9c737e",
              "version_major": 2,
              "version_minor": 0
            },
            "text/plain": [
              "Training:   0%|          | 0/812 [00:00<?, ?it/s]"
            ]
          },
          "metadata": {},
          "output_type": "display_data"
        },
        {
          "name": "stdout",
          "output_type": "stream",
          "text": [
            "Training Loss: 0.3439\n"
          ]
        },
        {
          "data": {
            "application/vnd.jupyter.widget-view+json": {
              "model_id": "09f5ae77fe724393960627561744a0c3",
              "version_major": 2,
              "version_minor": 0
            },
            "text/plain": [
              "Evaluating:   0%|          | 0/144 [00:00<?, ?it/s]"
            ]
          },
          "metadata": {},
          "output_type": "display_data"
        },
        {
          "name": "stdout",
          "output_type": "stream",
          "text": [
            "Validation Loss: 0.3754 | Validation Accuracy: 0.8607\n",
            "Classification Report:\n",
            "               precision    recall  f1-score   support\n",
            "\n",
            "    Negative       0.89      0.88      0.88      3354\n",
            "     Neutral       0.84      0.84      0.84      2716\n",
            "    Positive       0.85      0.86      0.85      3099\n",
            "\n",
            "    accuracy                           0.86      9169\n",
            "   macro avg       0.86      0.86      0.86      9169\n",
            "weighted avg       0.86      0.86      0.86      9169\n",
            "\n",
            "\n",
            "New best model saved to ./sentiment_model with accuracy: 0.8607\n",
            "\n",
            "--- Epoch 25/100 ---\n"
          ]
        },
        {
          "data": {
            "application/vnd.jupyter.widget-view+json": {
              "model_id": "",
              "version_major": 2,
              "version_minor": 0
            },
            "text/plain": [
              "Training:   0%|          | 0/812 [00:00<?, ?it/s]"
            ]
          },
          "metadata": {},
          "output_type": "display_data"
        },
        {
          "name": "stdout",
          "output_type": "stream",
          "text": [
            "Training Loss: 0.3294\n"
          ]
        },
        {
          "data": {
            "application/vnd.jupyter.widget-view+json": {
              "model_id": "",
              "version_major": 2,
              "version_minor": 0
            },
            "text/plain": [
              "Evaluating:   0%|          | 0/144 [00:00<?, ?it/s]"
            ]
          },
          "metadata": {},
          "output_type": "display_data"
        },
        {
          "name": "stdout",
          "output_type": "stream",
          "text": [
            "Validation Loss: 0.3688 | Validation Accuracy: 0.8649\n",
            "Classification Report:\n",
            "               precision    recall  f1-score   support\n",
            "\n",
            "    Negative       0.90      0.88      0.89      3354\n",
            "     Neutral       0.85      0.84      0.84      2716\n",
            "    Positive       0.84      0.88      0.86      3099\n",
            "\n",
            "    accuracy                           0.86      9169\n",
            "   macro avg       0.86      0.86      0.86      9169\n",
            "weighted avg       0.87      0.86      0.86      9169\n",
            "\n",
            "\n",
            "New best model saved to ./sentiment_model with accuracy: 0.8649\n",
            "\n",
            "--- Epoch 26/100 ---\n"
          ]
        },
        {
          "data": {
            "application/vnd.jupyter.widget-view+json": {
              "model_id": "",
              "version_major": 2,
              "version_minor": 0
            },
            "text/plain": [
              "Training:   0%|          | 0/812 [00:00<?, ?it/s]"
            ]
          },
          "metadata": {},
          "output_type": "display_data"
        },
        {
          "name": "stdout",
          "output_type": "stream",
          "text": [
            "Training Loss: 0.3201\n"
          ]
        },
        {
          "data": {
            "application/vnd.jupyter.widget-view+json": {
              "model_id": "",
              "version_major": 2,
              "version_minor": 0
            },
            "text/plain": [
              "Evaluating:   0%|          | 0/144 [00:00<?, ?it/s]"
            ]
          },
          "metadata": {},
          "output_type": "display_data"
        },
        {
          "name": "stdout",
          "output_type": "stream",
          "text": [
            "Validation Loss: 0.3603 | Validation Accuracy: 0.8702\n",
            "Classification Report:\n",
            "               precision    recall  f1-score   support\n",
            "\n",
            "    Negative       0.90      0.89      0.89      3354\n",
            "     Neutral       0.85      0.85      0.85      2716\n",
            "    Positive       0.86      0.86      0.86      3099\n",
            "\n",
            "    accuracy                           0.87      9169\n",
            "   macro avg       0.87      0.87      0.87      9169\n",
            "weighted avg       0.87      0.87      0.87      9169\n",
            "\n",
            "\n",
            "New best model saved to ./sentiment_model with accuracy: 0.8702\n",
            "\n",
            "--- Epoch 27/100 ---\n"
          ]
        },
        {
          "data": {
            "application/vnd.jupyter.widget-view+json": {
              "model_id": "",
              "version_major": 2,
              "version_minor": 0
            },
            "text/plain": [
              "Training:   0%|          | 0/812 [00:00<?, ?it/s]"
            ]
          },
          "metadata": {},
          "output_type": "display_data"
        },
        {
          "name": "stdout",
          "output_type": "stream",
          "text": [
            "Training Loss: 0.3126\n"
          ]
        },
        {
          "data": {
            "application/vnd.jupyter.widget-view+json": {
              "model_id": "",
              "version_major": 2,
              "version_minor": 0
            },
            "text/plain": [
              "Evaluating:   0%|          | 0/144 [00:00<?, ?it/s]"
            ]
          },
          "metadata": {},
          "output_type": "display_data"
        },
        {
          "name": "stdout",
          "output_type": "stream",
          "text": [
            "Validation Loss: 0.3498 | Validation Accuracy: 0.8725\n",
            "Classification Report:\n",
            "               precision    recall  f1-score   support\n",
            "\n",
            "    Negative       0.89      0.89      0.89      3354\n",
            "     Neutral       0.86      0.85      0.86      2716\n",
            "    Positive       0.86      0.87      0.87      3099\n",
            "\n",
            "    accuracy                           0.87      9169\n",
            "   macro avg       0.87      0.87      0.87      9169\n",
            "weighted avg       0.87      0.87      0.87      9169\n",
            "\n",
            "\n",
            "New best model saved to ./sentiment_model with accuracy: 0.8725\n",
            "\n",
            "--- Epoch 28/100 ---\n"
          ]
        },
        {
          "data": {
            "application/vnd.jupyter.widget-view+json": {
              "model_id": "",
              "version_major": 2,
              "version_minor": 0
            },
            "text/plain": [
              "Training:   0%|          | 0/812 [00:00<?, ?it/s]"
            ]
          },
          "metadata": {},
          "output_type": "display_data"
        },
        {
          "name": "stdout",
          "output_type": "stream",
          "text": [
            "Training Loss: 0.3007\n"
          ]
        },
        {
          "data": {
            "application/vnd.jupyter.widget-view+json": {
              "model_id": "",
              "version_major": 2,
              "version_minor": 0
            },
            "text/plain": [
              "Evaluating:   0%|          | 0/144 [00:00<?, ?it/s]"
            ]
          },
          "metadata": {},
          "output_type": "display_data"
        },
        {
          "name": "stdout",
          "output_type": "stream",
          "text": [
            "Validation Loss: 0.3451 | Validation Accuracy: 0.8743\n",
            "Classification Report:\n",
            "               precision    recall  f1-score   support\n",
            "\n",
            "    Negative       0.89      0.90      0.89      3354\n",
            "     Neutral       0.86      0.85      0.86      2716\n",
            "    Positive       0.87      0.87      0.87      3099\n",
            "\n",
            "    accuracy                           0.87      9169\n",
            "   macro avg       0.87      0.87      0.87      9169\n",
            "weighted avg       0.87      0.87      0.87      9169\n",
            "\n",
            "\n",
            "New best model saved to ./sentiment_model with accuracy: 0.8743\n",
            "\n",
            "--- Epoch 29/100 ---\n"
          ]
        },
        {
          "data": {
            "application/vnd.jupyter.widget-view+json": {
              "model_id": "",
              "version_major": 2,
              "version_minor": 0
            },
            "text/plain": [
              "Training:   0%|          | 0/812 [00:00<?, ?it/s]"
            ]
          },
          "metadata": {},
          "output_type": "display_data"
        },
        {
          "name": "stdout",
          "output_type": "stream",
          "text": [
            "Training Loss: 0.2897\n"
          ]
        },
        {
          "data": {
            "application/vnd.jupyter.widget-view+json": {
              "model_id": "",
              "version_major": 2,
              "version_minor": 0
            },
            "text/plain": [
              "Evaluating:   0%|          | 0/144 [00:00<?, ?it/s]"
            ]
          },
          "metadata": {},
          "output_type": "display_data"
        },
        {
          "name": "stdout",
          "output_type": "stream",
          "text": [
            "Validation Loss: 0.3385 | Validation Accuracy: 0.8773\n",
            "Classification Report:\n",
            "               precision    recall  f1-score   support\n",
            "\n",
            "    Negative       0.90      0.89      0.90      3354\n",
            "     Neutral       0.86      0.86      0.86      2716\n",
            "    Positive       0.87      0.87      0.87      3099\n",
            "\n",
            "    accuracy                           0.88      9169\n",
            "   macro avg       0.88      0.88      0.88      9169\n",
            "weighted avg       0.88      0.88      0.88      9169\n",
            "\n",
            "\n",
            "New best model saved to ./sentiment_model with accuracy: 0.8773\n",
            "\n",
            "--- Epoch 30/100 ---\n"
          ]
        },
        {
          "data": {
            "application/vnd.jupyter.widget-view+json": {
              "model_id": "",
              "version_major": 2,
              "version_minor": 0
            },
            "text/plain": [
              "Training:   0%|          | 0/812 [00:00<?, ?it/s]"
            ]
          },
          "metadata": {},
          "output_type": "display_data"
        },
        {
          "name": "stdout",
          "output_type": "stream",
          "text": [
            "Training Loss: 0.2803\n"
          ]
        },
        {
          "data": {
            "application/vnd.jupyter.widget-view+json": {
              "model_id": "",
              "version_major": 2,
              "version_minor": 0
            },
            "text/plain": [
              "Evaluating:   0%|          | 0/144 [00:00<?, ?it/s]"
            ]
          },
          "metadata": {},
          "output_type": "display_data"
        },
        {
          "name": "stdout",
          "output_type": "stream",
          "text": [
            "Validation Loss: 0.3364 | Validation Accuracy: 0.8772\n",
            "Classification Report:\n",
            "               precision    recall  f1-score   support\n",
            "\n",
            "    Negative       0.91      0.88      0.89      3354\n",
            "     Neutral       0.85      0.87      0.86      2716\n",
            "    Positive       0.86      0.89      0.87      3099\n",
            "\n",
            "    accuracy                           0.88      9169\n",
            "   macro avg       0.88      0.88      0.88      9169\n",
            "weighted avg       0.88      0.88      0.88      9169\n",
            "\n",
            "\n",
            "--- Epoch 31/100 ---\n"
          ]
        },
        {
          "data": {
            "application/vnd.jupyter.widget-view+json": {
              "model_id": "",
              "version_major": 2,
              "version_minor": 0
            },
            "text/plain": [
              "Training:   0%|          | 0/812 [00:00<?, ?it/s]"
            ]
          },
          "metadata": {},
          "output_type": "display_data"
        },
        {
          "name": "stdout",
          "output_type": "stream",
          "text": [
            "Training Loss: 0.2744\n"
          ]
        },
        {
          "data": {
            "application/vnd.jupyter.widget-view+json": {
              "model_id": "",
              "version_major": 2,
              "version_minor": 0
            },
            "text/plain": [
              "Evaluating:   0%|          | 0/144 [00:00<?, ?it/s]"
            ]
          },
          "metadata": {},
          "output_type": "display_data"
        },
        {
          "name": "stdout",
          "output_type": "stream",
          "text": [
            "Validation Loss: 0.3302 | Validation Accuracy: 0.8809\n",
            "Classification Report:\n",
            "               precision    recall  f1-score   support\n",
            "\n",
            "    Negative       0.91      0.88      0.90      3354\n",
            "     Neutral       0.85      0.88      0.87      2716\n",
            "    Positive       0.88      0.88      0.88      3099\n",
            "\n",
            "    accuracy                           0.88      9169\n",
            "   macro avg       0.88      0.88      0.88      9169\n",
            "weighted avg       0.88      0.88      0.88      9169\n",
            "\n",
            "\n",
            "New best model saved to ./sentiment_model with accuracy: 0.8809\n",
            "\n",
            "--- Epoch 32/100 ---\n"
          ]
        },
        {
          "data": {
            "application/vnd.jupyter.widget-view+json": {
              "model_id": "",
              "version_major": 2,
              "version_minor": 0
            },
            "text/plain": [
              "Training:   0%|          | 0/812 [00:00<?, ?it/s]"
            ]
          },
          "metadata": {},
          "output_type": "display_data"
        },
        {
          "name": "stdout",
          "output_type": "stream",
          "text": [
            "Training Loss: 0.2663\n"
          ]
        },
        {
          "data": {
            "application/vnd.jupyter.widget-view+json": {
              "model_id": "",
              "version_major": 2,
              "version_minor": 0
            },
            "text/plain": [
              "Evaluating:   0%|          | 0/144 [00:00<?, ?it/s]"
            ]
          },
          "metadata": {},
          "output_type": "display_data"
        },
        {
          "name": "stdout",
          "output_type": "stream",
          "text": [
            "Validation Loss: 0.3258 | Validation Accuracy: 0.8847\n",
            "Classification Report:\n",
            "               precision    recall  f1-score   support\n",
            "\n",
            "    Negative       0.90      0.90      0.90      3354\n",
            "     Neutral       0.85      0.89      0.87      2716\n",
            "    Positive       0.89      0.86      0.88      3099\n",
            "\n",
            "    accuracy                           0.88      9169\n",
            "   macro avg       0.88      0.88      0.88      9169\n",
            "weighted avg       0.89      0.88      0.88      9169\n",
            "\n",
            "\n",
            "New best model saved to ./sentiment_model with accuracy: 0.8847\n",
            "\n",
            "--- Epoch 33/100 ---\n"
          ]
        },
        {
          "data": {
            "application/vnd.jupyter.widget-view+json": {
              "model_id": "",
              "version_major": 2,
              "version_minor": 0
            },
            "text/plain": [
              "Training:   0%|          | 0/812 [00:00<?, ?it/s]"
            ]
          },
          "metadata": {},
          "output_type": "display_data"
        },
        {
          "name": "stdout",
          "output_type": "stream",
          "text": [
            "Training Loss: 0.2574\n"
          ]
        },
        {
          "data": {
            "application/vnd.jupyter.widget-view+json": {
              "model_id": "",
              "version_major": 2,
              "version_minor": 0
            },
            "text/plain": [
              "Evaluating:   0%|          | 0/144 [00:00<?, ?it/s]"
            ]
          },
          "metadata": {},
          "output_type": "display_data"
        },
        {
          "name": "stdout",
          "output_type": "stream",
          "text": [
            "Validation Loss: 0.3250 | Validation Accuracy: 0.8855\n",
            "Classification Report:\n",
            "               precision    recall  f1-score   support\n",
            "\n",
            "    Negative       0.92      0.89      0.90      3354\n",
            "     Neutral       0.86      0.89      0.87      2716\n",
            "    Positive       0.88      0.88      0.88      3099\n",
            "\n",
            "    accuracy                           0.89      9169\n",
            "   macro avg       0.88      0.89      0.88      9169\n",
            "weighted avg       0.89      0.89      0.89      9169\n",
            "\n",
            "\n",
            "New best model saved to ./sentiment_model with accuracy: 0.8855\n",
            "\n",
            "--- Epoch 34/100 ---\n"
          ]
        },
        {
          "data": {
            "application/vnd.jupyter.widget-view+json": {
              "model_id": "",
              "version_major": 2,
              "version_minor": 0
            },
            "text/plain": [
              "Training:   0%|          | 0/812 [00:00<?, ?it/s]"
            ]
          },
          "metadata": {},
          "output_type": "display_data"
        },
        {
          "name": "stdout",
          "output_type": "stream",
          "text": [
            "Training Loss: 0.2506\n"
          ]
        },
        {
          "data": {
            "application/vnd.jupyter.widget-view+json": {
              "model_id": "",
              "version_major": 2,
              "version_minor": 0
            },
            "text/plain": [
              "Evaluating:   0%|          | 0/144 [00:00<?, ?it/s]"
            ]
          },
          "metadata": {},
          "output_type": "display_data"
        },
        {
          "name": "stdout",
          "output_type": "stream",
          "text": [
            "Validation Loss: 0.3166 | Validation Accuracy: 0.8889\n",
            "Classification Report:\n",
            "               precision    recall  f1-score   support\n",
            "\n",
            "    Negative       0.91      0.89      0.90      3354\n",
            "     Neutral       0.87      0.88      0.88      2716\n",
            "    Positive       0.88      0.89      0.89      3099\n",
            "\n",
            "    accuracy                           0.89      9169\n",
            "   macro avg       0.89      0.89      0.89      9169\n",
            "weighted avg       0.89      0.89      0.89      9169\n",
            "\n",
            "\n",
            "New best model saved to ./sentiment_model with accuracy: 0.8889\n",
            "\n",
            "--- Epoch 35/100 ---\n"
          ]
        },
        {
          "data": {
            "application/vnd.jupyter.widget-view+json": {
              "model_id": "",
              "version_major": 2,
              "version_minor": 0
            },
            "text/plain": [
              "Training:   0%|          | 0/812 [00:00<?, ?it/s]"
            ]
          },
          "metadata": {},
          "output_type": "display_data"
        },
        {
          "name": "stdout",
          "output_type": "stream",
          "text": [
            "Training Loss: 0.2425\n"
          ]
        },
        {
          "data": {
            "application/vnd.jupyter.widget-view+json": {
              "model_id": "",
              "version_major": 2,
              "version_minor": 0
            },
            "text/plain": [
              "Evaluating:   0%|          | 0/144 [00:00<?, ?it/s]"
            ]
          },
          "metadata": {},
          "output_type": "display_data"
        },
        {
          "name": "stdout",
          "output_type": "stream",
          "text": [
            "Validation Loss: 0.3129 | Validation Accuracy: 0.8888\n",
            "Classification Report:\n",
            "               precision    recall  f1-score   support\n",
            "\n",
            "    Negative       0.91      0.90      0.90      3354\n",
            "     Neutral       0.86      0.89      0.88      2716\n",
            "    Positive       0.89      0.88      0.88      3099\n",
            "\n",
            "    accuracy                           0.89      9169\n",
            "   macro avg       0.89      0.89      0.89      9169\n",
            "weighted avg       0.89      0.89      0.89      9169\n",
            "\n",
            "\n",
            "--- Epoch 36/100 ---\n"
          ]
        },
        {
          "data": {
            "application/vnd.jupyter.widget-view+json": {
              "model_id": "",
              "version_major": 2,
              "version_minor": 0
            },
            "text/plain": [
              "Training:   0%|          | 0/812 [00:00<?, ?it/s]"
            ]
          },
          "metadata": {},
          "output_type": "display_data"
        },
        {
          "name": "stdout",
          "output_type": "stream",
          "text": [
            "Training Loss: 0.2386\n"
          ]
        },
        {
          "data": {
            "application/vnd.jupyter.widget-view+json": {
              "model_id": "",
              "version_major": 2,
              "version_minor": 0
            },
            "text/plain": [
              "Evaluating:   0%|          | 0/144 [00:00<?, ?it/s]"
            ]
          },
          "metadata": {},
          "output_type": "display_data"
        },
        {
          "name": "stdout",
          "output_type": "stream",
          "text": [
            "Validation Loss: 0.3147 | Validation Accuracy: 0.8910\n",
            "Classification Report:\n",
            "               precision    recall  f1-score   support\n",
            "\n",
            "    Negative       0.91      0.90      0.91      3354\n",
            "     Neutral       0.87      0.89      0.88      2716\n",
            "    Positive       0.89      0.88      0.89      3099\n",
            "\n",
            "    accuracy                           0.89      9169\n",
            "   macro avg       0.89      0.89      0.89      9169\n",
            "weighted avg       0.89      0.89      0.89      9169\n",
            "\n",
            "\n",
            "New best model saved to ./sentiment_model with accuracy: 0.8910\n",
            "\n",
            "--- Epoch 37/100 ---\n"
          ]
        },
        {
          "data": {
            "application/vnd.jupyter.widget-view+json": {
              "model_id": "",
              "version_major": 2,
              "version_minor": 0
            },
            "text/plain": [
              "Training:   0%|          | 0/812 [00:00<?, ?it/s]"
            ]
          },
          "metadata": {},
          "output_type": "display_data"
        },
        {
          "name": "stdout",
          "output_type": "stream",
          "text": [
            "Training Loss: 0.2303\n"
          ]
        },
        {
          "data": {
            "application/vnd.jupyter.widget-view+json": {
              "model_id": "",
              "version_major": 2,
              "version_minor": 0
            },
            "text/plain": [
              "Evaluating:   0%|          | 0/144 [00:00<?, ?it/s]"
            ]
          },
          "metadata": {},
          "output_type": "display_data"
        },
        {
          "name": "stdout",
          "output_type": "stream",
          "text": [
            "Validation Loss: 0.3084 | Validation Accuracy: 0.8919\n",
            "Classification Report:\n",
            "               precision    recall  f1-score   support\n",
            "\n",
            "    Negative       0.92      0.89      0.91      3354\n",
            "     Neutral       0.87      0.89      0.88      2716\n",
            "    Positive       0.89      0.89      0.89      3099\n",
            "\n",
            "    accuracy                           0.89      9169\n",
            "   macro avg       0.89      0.89      0.89      9169\n",
            "weighted avg       0.89      0.89      0.89      9169\n",
            "\n",
            "\n",
            "New best model saved to ./sentiment_model with accuracy: 0.8919\n",
            "\n",
            "--- Epoch 38/100 ---\n"
          ]
        },
        {
          "data": {
            "application/vnd.jupyter.widget-view+json": {
              "model_id": "",
              "version_major": 2,
              "version_minor": 0
            },
            "text/plain": [
              "Training:   0%|          | 0/812 [00:00<?, ?it/s]"
            ]
          },
          "metadata": {},
          "output_type": "display_data"
        },
        {
          "name": "stdout",
          "output_type": "stream",
          "text": [
            "Training Loss: 0.2238\n"
          ]
        },
        {
          "data": {
            "application/vnd.jupyter.widget-view+json": {
              "model_id": "",
              "version_major": 2,
              "version_minor": 0
            },
            "text/plain": [
              "Evaluating:   0%|          | 0/144 [00:00<?, ?it/s]"
            ]
          },
          "metadata": {},
          "output_type": "display_data"
        },
        {
          "name": "stdout",
          "output_type": "stream",
          "text": [
            "Validation Loss: 0.3044 | Validation Accuracy: 0.8957\n",
            "Classification Report:\n",
            "               precision    recall  f1-score   support\n",
            "\n",
            "    Negative       0.91      0.91      0.91      3354\n",
            "     Neutral       0.88      0.89      0.88      2716\n",
            "    Positive       0.89      0.89      0.89      3099\n",
            "\n",
            "    accuracy                           0.90      9169\n",
            "   macro avg       0.89      0.90      0.89      9169\n",
            "weighted avg       0.90      0.90      0.90      9169\n",
            "\n",
            "\n",
            "New best model saved to ./sentiment_model with accuracy: 0.8957\n",
            "\n",
            "--- Epoch 39/100 ---\n"
          ]
        },
        {
          "data": {
            "application/vnd.jupyter.widget-view+json": {
              "model_id": "",
              "version_major": 2,
              "version_minor": 0
            },
            "text/plain": [
              "Training:   0%|          | 0/812 [00:00<?, ?it/s]"
            ]
          },
          "metadata": {},
          "output_type": "display_data"
        },
        {
          "name": "stdout",
          "output_type": "stream",
          "text": [
            "Training Loss: 0.2212\n"
          ]
        },
        {
          "data": {
            "application/vnd.jupyter.widget-view+json": {
              "model_id": "",
              "version_major": 2,
              "version_minor": 0
            },
            "text/plain": [
              "Evaluating:   0%|          | 0/144 [00:00<?, ?it/s]"
            ]
          },
          "metadata": {},
          "output_type": "display_data"
        },
        {
          "name": "stdout",
          "output_type": "stream",
          "text": [
            "Validation Loss: 0.3048 | Validation Accuracy: 0.8944\n",
            "Classification Report:\n",
            "               precision    recall  f1-score   support\n",
            "\n",
            "    Negative       0.91      0.90      0.91      3354\n",
            "     Neutral       0.88      0.89      0.88      2716\n",
            "    Positive       0.89      0.89      0.89      3099\n",
            "\n",
            "    accuracy                           0.89      9169\n",
            "   macro avg       0.89      0.89      0.89      9169\n",
            "weighted avg       0.89      0.89      0.89      9169\n",
            "\n",
            "\n",
            "--- Epoch 40/100 ---\n"
          ]
        },
        {
          "data": {
            "application/vnd.jupyter.widget-view+json": {
              "model_id": "",
              "version_major": 2,
              "version_minor": 0
            },
            "text/plain": [
              "Training:   0%|          | 0/812 [00:00<?, ?it/s]"
            ]
          },
          "metadata": {},
          "output_type": "display_data"
        },
        {
          "name": "stdout",
          "output_type": "stream",
          "text": [
            "Training Loss: 0.2132\n"
          ]
        },
        {
          "data": {
            "application/vnd.jupyter.widget-view+json": {
              "model_id": "",
              "version_major": 2,
              "version_minor": 0
            },
            "text/plain": [
              "Evaluating:   0%|          | 0/144 [00:00<?, ?it/s]"
            ]
          },
          "metadata": {},
          "output_type": "display_data"
        },
        {
          "name": "stdout",
          "output_type": "stream",
          "text": [
            "Validation Loss: 0.3008 | Validation Accuracy: 0.8966\n",
            "Classification Report:\n",
            "               precision    recall  f1-score   support\n",
            "\n",
            "    Negative       0.91      0.91      0.91      3354\n",
            "     Neutral       0.86      0.91      0.89      2716\n",
            "    Positive       0.92      0.88      0.90      3099\n",
            "\n",
            "    accuracy                           0.90      9169\n",
            "   macro avg       0.90      0.90      0.90      9169\n",
            "weighted avg       0.90      0.90      0.90      9169\n",
            "\n",
            "\n",
            "New best model saved to ./sentiment_model with accuracy: 0.8966\n",
            "\n",
            "--- Epoch 41/100 ---\n"
          ]
        },
        {
          "data": {
            "application/vnd.jupyter.widget-view+json": {
              "model_id": "",
              "version_major": 2,
              "version_minor": 0
            },
            "text/plain": [
              "Training:   0%|          | 0/812 [00:00<?, ?it/s]"
            ]
          },
          "metadata": {},
          "output_type": "display_data"
        },
        {
          "name": "stdout",
          "output_type": "stream",
          "text": [
            "Training Loss: 0.2097\n"
          ]
        },
        {
          "data": {
            "application/vnd.jupyter.widget-view+json": {
              "model_id": "",
              "version_major": 2,
              "version_minor": 0
            },
            "text/plain": [
              "Evaluating:   0%|          | 0/144 [00:00<?, ?it/s]"
            ]
          },
          "metadata": {},
          "output_type": "display_data"
        },
        {
          "name": "stdout",
          "output_type": "stream",
          "text": [
            "Validation Loss: 0.2998 | Validation Accuracy: 0.8954\n",
            "Classification Report:\n",
            "               precision    recall  f1-score   support\n",
            "\n",
            "    Negative       0.91      0.90      0.91      3354\n",
            "     Neutral       0.86      0.91      0.88      2716\n",
            "    Positive       0.91      0.88      0.89      3099\n",
            "\n",
            "    accuracy                           0.90      9169\n",
            "   macro avg       0.89      0.90      0.89      9169\n",
            "weighted avg       0.90      0.90      0.90      9169\n",
            "\n",
            "\n",
            "--- Epoch 42/100 ---\n"
          ]
        },
        {
          "data": {
            "application/vnd.jupyter.widget-view+json": {
              "model_id": "",
              "version_major": 2,
              "version_minor": 0
            },
            "text/plain": [
              "Training:   0%|          | 0/812 [00:00<?, ?it/s]"
            ]
          },
          "metadata": {},
          "output_type": "display_data"
        },
        {
          "name": "stdout",
          "output_type": "stream",
          "text": [
            "Training Loss: 0.2041\n"
          ]
        },
        {
          "data": {
            "application/vnd.jupyter.widget-view+json": {
              "model_id": "",
              "version_major": 2,
              "version_minor": 0
            },
            "text/plain": [
              "Evaluating:   0%|          | 0/144 [00:00<?, ?it/s]"
            ]
          },
          "metadata": {},
          "output_type": "display_data"
        },
        {
          "name": "stdout",
          "output_type": "stream",
          "text": [
            "Validation Loss: 0.2949 | Validation Accuracy: 0.8964\n",
            "Classification Report:\n",
            "               precision    recall  f1-score   support\n",
            "\n",
            "    Negative       0.91      0.91      0.91      3354\n",
            "     Neutral       0.88      0.89      0.89      2716\n",
            "    Positive       0.90      0.89      0.89      3099\n",
            "\n",
            "    accuracy                           0.90      9169\n",
            "   macro avg       0.90      0.90      0.90      9169\n",
            "weighted avg       0.90      0.90      0.90      9169\n",
            "\n",
            "\n",
            "--- Epoch 43/100 ---\n"
          ]
        },
        {
          "data": {
            "application/vnd.jupyter.widget-view+json": {
              "model_id": "",
              "version_major": 2,
              "version_minor": 0
            },
            "text/plain": [
              "Training:   0%|          | 0/812 [00:00<?, ?it/s]"
            ]
          },
          "metadata": {},
          "output_type": "display_data"
        },
        {
          "name": "stdout",
          "output_type": "stream",
          "text": [
            "Training Loss: 0.1986\n"
          ]
        },
        {
          "data": {
            "application/vnd.jupyter.widget-view+json": {
              "model_id": "",
              "version_major": 2,
              "version_minor": 0
            },
            "text/plain": [
              "Evaluating:   0%|          | 0/144 [00:00<?, ?it/s]"
            ]
          },
          "metadata": {},
          "output_type": "display_data"
        },
        {
          "name": "stdout",
          "output_type": "stream",
          "text": [
            "Validation Loss: 0.2946 | Validation Accuracy: 0.9025\n",
            "Classification Report:\n",
            "               precision    recall  f1-score   support\n",
            "\n",
            "    Negative       0.91      0.92      0.92      3354\n",
            "     Neutral       0.88      0.90      0.89      2716\n",
            "    Positive       0.91      0.89      0.90      3099\n",
            "\n",
            "    accuracy                           0.90      9169\n",
            "   macro avg       0.90      0.90      0.90      9169\n",
            "weighted avg       0.90      0.90      0.90      9169\n",
            "\n",
            "\n",
            "New best model saved to ./sentiment_model with accuracy: 0.9025\n",
            "\n",
            "--- Epoch 44/100 ---\n"
          ]
        },
        {
          "data": {
            "application/vnd.jupyter.widget-view+json": {
              "model_id": "",
              "version_major": 2,
              "version_minor": 0
            },
            "text/plain": [
              "Training:   0%|          | 0/812 [00:00<?, ?it/s]"
            ]
          },
          "metadata": {},
          "output_type": "display_data"
        },
        {
          "name": "stdout",
          "output_type": "stream",
          "text": [
            "Training Loss: 0.1937\n"
          ]
        },
        {
          "data": {
            "application/vnd.jupyter.widget-view+json": {
              "model_id": "",
              "version_major": 2,
              "version_minor": 0
            },
            "text/plain": [
              "Evaluating:   0%|          | 0/144 [00:00<?, ?it/s]"
            ]
          },
          "metadata": {},
          "output_type": "display_data"
        },
        {
          "name": "stdout",
          "output_type": "stream",
          "text": [
            "Validation Loss: 0.2906 | Validation Accuracy: 0.9029\n",
            "Classification Report:\n",
            "               precision    recall  f1-score   support\n",
            "\n",
            "    Negative       0.90      0.92      0.91      3354\n",
            "     Neutral       0.88      0.90      0.89      2716\n",
            "    Positive       0.92      0.88      0.90      3099\n",
            "\n",
            "    accuracy                           0.90      9169\n",
            "   macro avg       0.90      0.90      0.90      9169\n",
            "weighted avg       0.90      0.90      0.90      9169\n",
            "\n",
            "\n",
            "New best model saved to ./sentiment_model with accuracy: 0.9029\n",
            "\n",
            "--- Epoch 45/100 ---\n"
          ]
        },
        {
          "data": {
            "application/vnd.jupyter.widget-view+json": {
              "model_id": "",
              "version_major": 2,
              "version_minor": 0
            },
            "text/plain": [
              "Training:   0%|          | 0/812 [00:00<?, ?it/s]"
            ]
          },
          "metadata": {},
          "output_type": "display_data"
        },
        {
          "name": "stdout",
          "output_type": "stream",
          "text": [
            "Training Loss: 0.1871\n"
          ]
        },
        {
          "data": {
            "application/vnd.jupyter.widget-view+json": {
              "model_id": "",
              "version_major": 2,
              "version_minor": 0
            },
            "text/plain": [
              "Evaluating:   0%|          | 0/144 [00:00<?, ?it/s]"
            ]
          },
          "metadata": {},
          "output_type": "display_data"
        },
        {
          "name": "stdout",
          "output_type": "stream",
          "text": [
            "Validation Loss: 0.2901 | Validation Accuracy: 0.9037\n",
            "Classification Report:\n",
            "               precision    recall  f1-score   support\n",
            "\n",
            "    Negative       0.92      0.92      0.92      3354\n",
            "     Neutral       0.87      0.91      0.89      2716\n",
            "    Positive       0.92      0.88      0.90      3099\n",
            "\n",
            "    accuracy                           0.90      9169\n",
            "   macro avg       0.90      0.90      0.90      9169\n",
            "weighted avg       0.90      0.90      0.90      9169\n",
            "\n",
            "\n",
            "New best model saved to ./sentiment_model with accuracy: 0.9037\n",
            "\n",
            "--- Epoch 46/100 ---\n"
          ]
        },
        {
          "data": {
            "application/vnd.jupyter.widget-view+json": {
              "model_id": "",
              "version_major": 2,
              "version_minor": 0
            },
            "text/plain": [
              "Training:   0%|          | 0/812 [00:00<?, ?it/s]"
            ]
          },
          "metadata": {},
          "output_type": "display_data"
        },
        {
          "name": "stdout",
          "output_type": "stream",
          "text": [
            "Training Loss: 0.1862\n"
          ]
        },
        {
          "data": {
            "application/vnd.jupyter.widget-view+json": {
              "model_id": "",
              "version_major": 2,
              "version_minor": 0
            },
            "text/plain": [
              "Evaluating:   0%|          | 0/144 [00:00<?, ?it/s]"
            ]
          },
          "metadata": {},
          "output_type": "display_data"
        },
        {
          "name": "stdout",
          "output_type": "stream",
          "text": [
            "Validation Loss: 0.2937 | Validation Accuracy: 0.9035\n",
            "Classification Report:\n",
            "               precision    recall  f1-score   support\n",
            "\n",
            "    Negative       0.93      0.90      0.92      3354\n",
            "     Neutral       0.88      0.91      0.89      2716\n",
            "    Positive       0.90      0.90      0.90      3099\n",
            "\n",
            "    accuracy                           0.90      9169\n",
            "   macro avg       0.90      0.90      0.90      9169\n",
            "weighted avg       0.90      0.90      0.90      9169\n",
            "\n",
            "\n",
            "--- Epoch 47/100 ---\n"
          ]
        },
        {
          "data": {
            "application/vnd.jupyter.widget-view+json": {
              "model_id": "",
              "version_major": 2,
              "version_minor": 0
            },
            "text/plain": [
              "Training:   0%|          | 0/812 [00:00<?, ?it/s]"
            ]
          },
          "metadata": {},
          "output_type": "display_data"
        },
        {
          "name": "stdout",
          "output_type": "stream",
          "text": [
            "Training Loss: 0.1806\n"
          ]
        },
        {
          "data": {
            "application/vnd.jupyter.widget-view+json": {
              "model_id": "",
              "version_major": 2,
              "version_minor": 0
            },
            "text/plain": [
              "Evaluating:   0%|          | 0/144 [00:00<?, ?it/s]"
            ]
          },
          "metadata": {},
          "output_type": "display_data"
        },
        {
          "name": "stdout",
          "output_type": "stream",
          "text": [
            "Validation Loss: 0.2924 | Validation Accuracy: 0.9053\n",
            "Classification Report:\n",
            "               precision    recall  f1-score   support\n",
            "\n",
            "    Negative       0.93      0.91      0.92      3354\n",
            "     Neutral       0.88      0.91      0.89      2716\n",
            "    Positive       0.91      0.89      0.90      3099\n",
            "\n",
            "    accuracy                           0.91      9169\n",
            "   macro avg       0.90      0.91      0.90      9169\n",
            "weighted avg       0.91      0.91      0.91      9169\n",
            "\n",
            "\n",
            "New best model saved to ./sentiment_model with accuracy: 0.9053\n",
            "\n",
            "--- Epoch 48/100 ---\n"
          ]
        },
        {
          "data": {
            "application/vnd.jupyter.widget-view+json": {
              "model_id": "",
              "version_major": 2,
              "version_minor": 0
            },
            "text/plain": [
              "Training:   0%|          | 0/812 [00:00<?, ?it/s]"
            ]
          },
          "metadata": {},
          "output_type": "display_data"
        },
        {
          "name": "stdout",
          "output_type": "stream",
          "text": [
            "Training Loss: 0.1783\n"
          ]
        },
        {
          "data": {
            "application/vnd.jupyter.widget-view+json": {
              "model_id": "",
              "version_major": 2,
              "version_minor": 0
            },
            "text/plain": [
              "Evaluating:   0%|          | 0/144 [00:00<?, ?it/s]"
            ]
          },
          "metadata": {},
          "output_type": "display_data"
        },
        {
          "name": "stdout",
          "output_type": "stream",
          "text": [
            "Validation Loss: 0.2892 | Validation Accuracy: 0.9049\n",
            "Classification Report:\n",
            "               precision    recall  f1-score   support\n",
            "\n",
            "    Negative       0.92      0.91      0.92      3354\n",
            "     Neutral       0.88      0.91      0.89      2716\n",
            "    Positive       0.92      0.89      0.90      3099\n",
            "\n",
            "    accuracy                           0.90      9169\n",
            "   macro avg       0.90      0.90      0.90      9169\n",
            "weighted avg       0.91      0.90      0.90      9169\n",
            "\n",
            "\n",
            "--- Epoch 49/100 ---\n"
          ]
        },
        {
          "data": {
            "application/vnd.jupyter.widget-view+json": {
              "model_id": "",
              "version_major": 2,
              "version_minor": 0
            },
            "text/plain": [
              "Training:   0%|          | 0/812 [00:00<?, ?it/s]"
            ]
          },
          "metadata": {},
          "output_type": "display_data"
        },
        {
          "name": "stdout",
          "output_type": "stream",
          "text": [
            "Training Loss: 0.1760\n"
          ]
        },
        {
          "data": {
            "application/vnd.jupyter.widget-view+json": {
              "model_id": "",
              "version_major": 2,
              "version_minor": 0
            },
            "text/plain": [
              "Evaluating:   0%|          | 0/144 [00:00<?, ?it/s]"
            ]
          },
          "metadata": {},
          "output_type": "display_data"
        },
        {
          "name": "stdout",
          "output_type": "stream",
          "text": [
            "Validation Loss: 0.2929 | Validation Accuracy: 0.9054\n",
            "Classification Report:\n",
            "               precision    recall  f1-score   support\n",
            "\n",
            "    Negative       0.93      0.90      0.92      3354\n",
            "     Neutral       0.88      0.92      0.90      2716\n",
            "    Positive       0.91      0.90      0.90      3099\n",
            "\n",
            "    accuracy                           0.91      9169\n",
            "   macro avg       0.90      0.91      0.90      9169\n",
            "weighted avg       0.91      0.91      0.91      9169\n",
            "\n",
            "\n",
            "New best model saved to ./sentiment_model with accuracy: 0.9054\n",
            "\n",
            "--- Epoch 50/100 ---\n"
          ]
        },
        {
          "data": {
            "application/vnd.jupyter.widget-view+json": {
              "model_id": "",
              "version_major": 2,
              "version_minor": 0
            },
            "text/plain": [
              "Training:   0%|          | 0/812 [00:00<?, ?it/s]"
            ]
          },
          "metadata": {},
          "output_type": "display_data"
        },
        {
          "name": "stdout",
          "output_type": "stream",
          "text": [
            "Training Loss: 0.1698\n"
          ]
        },
        {
          "data": {
            "application/vnd.jupyter.widget-view+json": {
              "model_id": "",
              "version_major": 2,
              "version_minor": 0
            },
            "text/plain": [
              "Evaluating:   0%|          | 0/144 [00:00<?, ?it/s]"
            ]
          },
          "metadata": {},
          "output_type": "display_data"
        },
        {
          "name": "stdout",
          "output_type": "stream",
          "text": [
            "Validation Loss: 0.2961 | Validation Accuracy: 0.9051\n",
            "Classification Report:\n",
            "               precision    recall  f1-score   support\n",
            "\n",
            "    Negative       0.94      0.90      0.92      3354\n",
            "     Neutral       0.87      0.92      0.90      2716\n",
            "    Positive       0.90      0.90      0.90      3099\n",
            "\n",
            "    accuracy                           0.91      9169\n",
            "   macro avg       0.90      0.91      0.90      9169\n",
            "weighted avg       0.91      0.91      0.91      9169\n",
            "\n",
            "\n",
            "--- Epoch 51/100 ---\n"
          ]
        },
        {
          "data": {
            "application/vnd.jupyter.widget-view+json": {
              "model_id": "",
              "version_major": 2,
              "version_minor": 0
            },
            "text/plain": [
              "Training:   0%|          | 0/812 [00:00<?, ?it/s]"
            ]
          },
          "metadata": {},
          "output_type": "display_data"
        },
        {
          "name": "stdout",
          "output_type": "stream",
          "text": [
            "Training Loss: 0.1672\n"
          ]
        },
        {
          "data": {
            "application/vnd.jupyter.widget-view+json": {
              "model_id": "",
              "version_major": 2,
              "version_minor": 0
            },
            "text/plain": [
              "Evaluating:   0%|          | 0/144 [00:00<?, ?it/s]"
            ]
          },
          "metadata": {},
          "output_type": "display_data"
        },
        {
          "name": "stdout",
          "output_type": "stream",
          "text": [
            "Validation Loss: 0.2898 | Validation Accuracy: 0.9078\n",
            "Classification Report:\n",
            "               precision    recall  f1-score   support\n",
            "\n",
            "    Negative       0.92      0.92      0.92      3354\n",
            "     Neutral       0.89      0.91      0.90      2716\n",
            "    Positive       0.92      0.89      0.90      3099\n",
            "\n",
            "    accuracy                           0.91      9169\n",
            "   macro avg       0.91      0.91      0.91      9169\n",
            "weighted avg       0.91      0.91      0.91      9169\n",
            "\n",
            "\n",
            "New best model saved to ./sentiment_model with accuracy: 0.9078\n",
            "\n",
            "--- Epoch 52/100 ---\n"
          ]
        },
        {
          "data": {
            "application/vnd.jupyter.widget-view+json": {
              "model_id": "",
              "version_major": 2,
              "version_minor": 0
            },
            "text/plain": [
              "Training:   0%|          | 0/812 [00:00<?, ?it/s]"
            ]
          },
          "metadata": {},
          "output_type": "display_data"
        },
        {
          "name": "stdout",
          "output_type": "stream",
          "text": [
            "Training Loss: 0.1639\n"
          ]
        },
        {
          "data": {
            "application/vnd.jupyter.widget-view+json": {
              "model_id": "",
              "version_major": 2,
              "version_minor": 0
            },
            "text/plain": [
              "Evaluating:   0%|          | 0/144 [00:00<?, ?it/s]"
            ]
          },
          "metadata": {},
          "output_type": "display_data"
        },
        {
          "name": "stdout",
          "output_type": "stream",
          "text": [
            "Validation Loss: 0.2918 | Validation Accuracy: 0.9084\n",
            "Classification Report:\n",
            "               precision    recall  f1-score   support\n",
            "\n",
            "    Negative       0.93      0.91      0.92      3354\n",
            "     Neutral       0.87      0.92      0.90      2716\n",
            "    Positive       0.92      0.90      0.91      3099\n",
            "\n",
            "    accuracy                           0.91      9169\n",
            "   macro avg       0.91      0.91      0.91      9169\n",
            "weighted avg       0.91      0.91      0.91      9169\n",
            "\n",
            "\n",
            "New best model saved to ./sentiment_model with accuracy: 0.9084\n",
            "\n",
            "--- Epoch 53/100 ---\n"
          ]
        },
        {
          "data": {
            "application/vnd.jupyter.widget-view+json": {
              "model_id": "",
              "version_major": 2,
              "version_minor": 0
            },
            "text/plain": [
              "Training:   0%|          | 0/812 [00:00<?, ?it/s]"
            ]
          },
          "metadata": {},
          "output_type": "display_data"
        },
        {
          "name": "stdout",
          "output_type": "stream",
          "text": [
            "Training Loss: 0.1590\n"
          ]
        },
        {
          "data": {
            "application/vnd.jupyter.widget-view+json": {
              "model_id": "",
              "version_major": 2,
              "version_minor": 0
            },
            "text/plain": [
              "Evaluating:   0%|          | 0/144 [00:00<?, ?it/s]"
            ]
          },
          "metadata": {},
          "output_type": "display_data"
        },
        {
          "name": "stdout",
          "output_type": "stream",
          "text": [
            "Validation Loss: 0.2881 | Validation Accuracy: 0.9105\n",
            "Classification Report:\n",
            "               precision    recall  f1-score   support\n",
            "\n",
            "    Negative       0.92      0.92      0.92      3354\n",
            "     Neutral       0.89      0.92      0.90      2716\n",
            "    Positive       0.92      0.90      0.91      3099\n",
            "\n",
            "    accuracy                           0.91      9169\n",
            "   macro avg       0.91      0.91      0.91      9169\n",
            "weighted avg       0.91      0.91      0.91      9169\n",
            "\n",
            "\n",
            "New best model saved to ./sentiment_model with accuracy: 0.9105\n",
            "\n",
            "--- Epoch 54/100 ---\n"
          ]
        },
        {
          "data": {
            "application/vnd.jupyter.widget-view+json": {
              "model_id": "",
              "version_major": 2,
              "version_minor": 0
            },
            "text/plain": [
              "Training:   0%|          | 0/812 [00:00<?, ?it/s]"
            ]
          },
          "metadata": {},
          "output_type": "display_data"
        },
        {
          "name": "stdout",
          "output_type": "stream",
          "text": [
            "Training Loss: 0.1582\n"
          ]
        },
        {
          "data": {
            "application/vnd.jupyter.widget-view+json": {
              "model_id": "",
              "version_major": 2,
              "version_minor": 0
            },
            "text/plain": [
              "Evaluating:   0%|          | 0/144 [00:00<?, ?it/s]"
            ]
          },
          "metadata": {},
          "output_type": "display_data"
        },
        {
          "name": "stdout",
          "output_type": "stream",
          "text": [
            "Validation Loss: 0.2926 | Validation Accuracy: 0.9100\n",
            "Classification Report:\n",
            "               precision    recall  f1-score   support\n",
            "\n",
            "    Negative       0.92      0.92      0.92      3354\n",
            "     Neutral       0.87      0.93      0.90      2716\n",
            "    Positive       0.94      0.88      0.91      3099\n",
            "\n",
            "    accuracy                           0.91      9169\n",
            "   macro avg       0.91      0.91      0.91      9169\n",
            "weighted avg       0.91      0.91      0.91      9169\n",
            "\n",
            "\n",
            "--- Epoch 55/100 ---\n"
          ]
        },
        {
          "data": {
            "application/vnd.jupyter.widget-view+json": {
              "model_id": "",
              "version_major": 2,
              "version_minor": 0
            },
            "text/plain": [
              "Training:   0%|          | 0/812 [00:00<?, ?it/s]"
            ]
          },
          "metadata": {},
          "output_type": "display_data"
        },
        {
          "name": "stdout",
          "output_type": "stream",
          "text": [
            "Training Loss: 0.1537\n"
          ]
        },
        {
          "data": {
            "application/vnd.jupyter.widget-view+json": {
              "model_id": "",
              "version_major": 2,
              "version_minor": 0
            },
            "text/plain": [
              "Evaluating:   0%|          | 0/144 [00:00<?, ?it/s]"
            ]
          },
          "metadata": {},
          "output_type": "display_data"
        },
        {
          "name": "stdout",
          "output_type": "stream",
          "text": [
            "Validation Loss: 0.2874 | Validation Accuracy: 0.9100\n",
            "Classification Report:\n",
            "               precision    recall  f1-score   support\n",
            "\n",
            "    Negative       0.93      0.91      0.92      3354\n",
            "     Neutral       0.88      0.92      0.90      2716\n",
            "    Positive       0.92      0.90      0.91      3099\n",
            "\n",
            "    accuracy                           0.91      9169\n",
            "   macro avg       0.91      0.91      0.91      9169\n",
            "weighted avg       0.91      0.91      0.91      9169\n",
            "\n",
            "\n",
            "--- Epoch 56/100 ---\n"
          ]
        },
        {
          "data": {
            "application/vnd.jupyter.widget-view+json": {
              "model_id": "",
              "version_major": 2,
              "version_minor": 0
            },
            "text/plain": [
              "Training:   0%|          | 0/812 [00:00<?, ?it/s]"
            ]
          },
          "metadata": {},
          "output_type": "display_data"
        },
        {
          "name": "stdout",
          "output_type": "stream",
          "text": [
            "Training Loss: 0.1496\n"
          ]
        },
        {
          "data": {
            "application/vnd.jupyter.widget-view+json": {
              "model_id": "",
              "version_major": 2,
              "version_minor": 0
            },
            "text/plain": [
              "Evaluating:   0%|          | 0/144 [00:00<?, ?it/s]"
            ]
          },
          "metadata": {},
          "output_type": "display_data"
        },
        {
          "name": "stdout",
          "output_type": "stream",
          "text": [
            "Validation Loss: 0.2895 | Validation Accuracy: 0.9111\n",
            "Classification Report:\n",
            "               precision    recall  f1-score   support\n",
            "\n",
            "    Negative       0.93      0.91      0.92      3354\n",
            "     Neutral       0.89      0.92      0.90      2716\n",
            "    Positive       0.92      0.90      0.91      3099\n",
            "\n",
            "    accuracy                           0.91      9169\n",
            "   macro avg       0.91      0.91      0.91      9169\n",
            "weighted avg       0.91      0.91      0.91      9169\n",
            "\n",
            "\n",
            "New best model saved to ./sentiment_model with accuracy: 0.9111\n",
            "\n",
            "--- Epoch 57/100 ---\n"
          ]
        },
        {
          "data": {
            "application/vnd.jupyter.widget-view+json": {
              "model_id": "",
              "version_major": 2,
              "version_minor": 0
            },
            "text/plain": [
              "Training:   0%|          | 0/812 [00:00<?, ?it/s]"
            ]
          },
          "metadata": {},
          "output_type": "display_data"
        },
        {
          "name": "stdout",
          "output_type": "stream",
          "text": [
            "Training Loss: 0.1470\n"
          ]
        },
        {
          "data": {
            "application/vnd.jupyter.widget-view+json": {
              "model_id": "",
              "version_major": 2,
              "version_minor": 0
            },
            "text/plain": [
              "Evaluating:   0%|          | 0/144 [00:00<?, ?it/s]"
            ]
          },
          "metadata": {},
          "output_type": "display_data"
        },
        {
          "name": "stdout",
          "output_type": "stream",
          "text": [
            "Validation Loss: 0.2840 | Validation Accuracy: 0.9136\n",
            "Classification Report:\n",
            "               precision    recall  f1-score   support\n",
            "\n",
            "    Negative       0.93      0.91      0.92      3354\n",
            "     Neutral       0.90      0.92      0.91      2716\n",
            "    Positive       0.91      0.91      0.91      3099\n",
            "\n",
            "    accuracy                           0.91      9169\n",
            "   macro avg       0.91      0.91      0.91      9169\n",
            "weighted avg       0.91      0.91      0.91      9169\n",
            "\n",
            "\n",
            "New best model saved to ./sentiment_model with accuracy: 0.9136\n",
            "\n",
            "--- Epoch 58/100 ---\n"
          ]
        },
        {
          "data": {
            "application/vnd.jupyter.widget-view+json": {
              "model_id": "",
              "version_major": 2,
              "version_minor": 0
            },
            "text/plain": [
              "Training:   0%|          | 0/812 [00:00<?, ?it/s]"
            ]
          },
          "metadata": {},
          "output_type": "display_data"
        },
        {
          "name": "stdout",
          "output_type": "stream",
          "text": [
            "Training Loss: 0.1432\n"
          ]
        },
        {
          "data": {
            "application/vnd.jupyter.widget-view+json": {
              "model_id": "",
              "version_major": 2,
              "version_minor": 0
            },
            "text/plain": [
              "Evaluating:   0%|          | 0/144 [00:00<?, ?it/s]"
            ]
          },
          "metadata": {},
          "output_type": "display_data"
        },
        {
          "name": "stdout",
          "output_type": "stream",
          "text": [
            "Validation Loss: 0.2902 | Validation Accuracy: 0.9105\n",
            "Classification Report:\n",
            "               precision    recall  f1-score   support\n",
            "\n",
            "    Negative       0.93      0.91      0.92      3354\n",
            "     Neutral       0.87      0.94      0.90      2716\n",
            "    Positive       0.93      0.89      0.91      3099\n",
            "\n",
            "    accuracy                           0.91      9169\n",
            "   macro avg       0.91      0.91      0.91      9169\n",
            "weighted avg       0.91      0.91      0.91      9169\n",
            "\n",
            "\n",
            "--- Epoch 59/100 ---\n"
          ]
        },
        {
          "data": {
            "application/vnd.jupyter.widget-view+json": {
              "model_id": "",
              "version_major": 2,
              "version_minor": 0
            },
            "text/plain": [
              "Training:   0%|          | 0/812 [00:00<?, ?it/s]"
            ]
          },
          "metadata": {},
          "output_type": "display_data"
        },
        {
          "name": "stdout",
          "output_type": "stream",
          "text": [
            "Training Loss: 0.1404\n"
          ]
        },
        {
          "data": {
            "application/vnd.jupyter.widget-view+json": {
              "model_id": "",
              "version_major": 2,
              "version_minor": 0
            },
            "text/plain": [
              "Evaluating:   0%|          | 0/144 [00:00<?, ?it/s]"
            ]
          },
          "metadata": {},
          "output_type": "display_data"
        },
        {
          "name": "stdout",
          "output_type": "stream",
          "text": [
            "Validation Loss: 0.2937 | Validation Accuracy: 0.9124\n",
            "Classification Report:\n",
            "               precision    recall  f1-score   support\n",
            "\n",
            "    Negative       0.93      0.92      0.92      3354\n",
            "     Neutral       0.88      0.93      0.90      2716\n",
            "    Positive       0.92      0.90      0.91      3099\n",
            "\n",
            "    accuracy                           0.91      9169\n",
            "   macro avg       0.91      0.91      0.91      9169\n",
            "weighted avg       0.91      0.91      0.91      9169\n",
            "\n",
            "\n",
            "--- Epoch 60/100 ---\n"
          ]
        },
        {
          "data": {
            "application/vnd.jupyter.widget-view+json": {
              "model_id": "",
              "version_major": 2,
              "version_minor": 0
            },
            "text/plain": [
              "Training:   0%|          | 0/812 [00:00<?, ?it/s]"
            ]
          },
          "metadata": {},
          "output_type": "display_data"
        },
        {
          "name": "stdout",
          "output_type": "stream",
          "text": [
            "Training Loss: 0.1381\n"
          ]
        },
        {
          "data": {
            "application/vnd.jupyter.widget-view+json": {
              "model_id": "",
              "version_major": 2,
              "version_minor": 0
            },
            "text/plain": [
              "Evaluating:   0%|          | 0/144 [00:00<?, ?it/s]"
            ]
          },
          "metadata": {},
          "output_type": "display_data"
        },
        {
          "name": "stdout",
          "output_type": "stream",
          "text": [
            "Validation Loss: 0.2874 | Validation Accuracy: 0.9142\n",
            "Classification Report:\n",
            "               precision    recall  f1-score   support\n",
            "\n",
            "    Negative       0.93      0.92      0.92      3354\n",
            "     Neutral       0.90      0.91      0.91      2716\n",
            "    Positive       0.91      0.91      0.91      3099\n",
            "\n",
            "    accuracy                           0.91      9169\n",
            "   macro avg       0.91      0.91      0.91      9169\n",
            "weighted avg       0.91      0.91      0.91      9169\n",
            "\n",
            "\n",
            "New best model saved to ./sentiment_model with accuracy: 0.9142\n",
            "\n",
            "--- Epoch 61/100 ---\n"
          ]
        },
        {
          "data": {
            "application/vnd.jupyter.widget-view+json": {
              "model_id": "",
              "version_major": 2,
              "version_minor": 0
            },
            "text/plain": [
              "Training:   0%|          | 0/812 [00:00<?, ?it/s]"
            ]
          },
          "metadata": {},
          "output_type": "display_data"
        },
        {
          "name": "stdout",
          "output_type": "stream",
          "text": [
            "Training Loss: 0.1349\n"
          ]
        },
        {
          "data": {
            "application/vnd.jupyter.widget-view+json": {
              "model_id": "",
              "version_major": 2,
              "version_minor": 0
            },
            "text/plain": [
              "Evaluating:   0%|          | 0/144 [00:00<?, ?it/s]"
            ]
          },
          "metadata": {},
          "output_type": "display_data"
        },
        {
          "name": "stdout",
          "output_type": "stream",
          "text": [
            "Validation Loss: 0.2903 | Validation Accuracy: 0.9136\n",
            "Classification Report:\n",
            "               precision    recall  f1-score   support\n",
            "\n",
            "    Negative       0.93      0.92      0.92      3354\n",
            "     Neutral       0.88      0.93      0.91      2716\n",
            "    Positive       0.93      0.90      0.91      3099\n",
            "\n",
            "    accuracy                           0.91      9169\n",
            "   macro avg       0.91      0.91      0.91      9169\n",
            "weighted avg       0.91      0.91      0.91      9169\n",
            "\n",
            "\n",
            "--- Epoch 62/100 ---\n"
          ]
        },
        {
          "data": {
            "application/vnd.jupyter.widget-view+json": {
              "model_id": "",
              "version_major": 2,
              "version_minor": 0
            },
            "text/plain": [
              "Training:   0%|          | 0/812 [00:00<?, ?it/s]"
            ]
          },
          "metadata": {},
          "output_type": "display_data"
        },
        {
          "name": "stdout",
          "output_type": "stream",
          "text": [
            "Training Loss: 0.1343\n"
          ]
        },
        {
          "data": {
            "application/vnd.jupyter.widget-view+json": {
              "model_id": "",
              "version_major": 2,
              "version_minor": 0
            },
            "text/plain": [
              "Evaluating:   0%|          | 0/144 [00:00<?, ?it/s]"
            ]
          },
          "metadata": {},
          "output_type": "display_data"
        },
        {
          "name": "stdout",
          "output_type": "stream",
          "text": [
            "Validation Loss: 0.2951 | Validation Accuracy: 0.9119\n",
            "Classification Report:\n",
            "               precision    recall  f1-score   support\n",
            "\n",
            "    Negative       0.94      0.90      0.92      3354\n",
            "     Neutral       0.89      0.93      0.91      2716\n",
            "    Positive       0.91      0.91      0.91      3099\n",
            "\n",
            "    accuracy                           0.91      9169\n",
            "   macro avg       0.91      0.91      0.91      9169\n",
            "weighted avg       0.91      0.91      0.91      9169\n",
            "\n",
            "\n",
            "--- Epoch 63/100 ---\n"
          ]
        },
        {
          "data": {
            "application/vnd.jupyter.widget-view+json": {
              "model_id": "",
              "version_major": 2,
              "version_minor": 0
            },
            "text/plain": [
              "Training:   0%|          | 0/812 [00:00<?, ?it/s]"
            ]
          },
          "metadata": {},
          "output_type": "display_data"
        },
        {
          "name": "stdout",
          "output_type": "stream",
          "text": [
            "Training Loss: 0.1338\n"
          ]
        },
        {
          "data": {
            "application/vnd.jupyter.widget-view+json": {
              "model_id": "",
              "version_major": 2,
              "version_minor": 0
            },
            "text/plain": [
              "Evaluating:   0%|          | 0/144 [00:00<?, ?it/s]"
            ]
          },
          "metadata": {},
          "output_type": "display_data"
        },
        {
          "name": "stdout",
          "output_type": "stream",
          "text": [
            "Validation Loss: 0.2875 | Validation Accuracy: 0.9150\n",
            "Classification Report:\n",
            "               precision    recall  f1-score   support\n",
            "\n",
            "    Negative       0.93      0.92      0.92      3354\n",
            "     Neutral       0.90      0.92      0.91      2716\n",
            "    Positive       0.92      0.90      0.91      3099\n",
            "\n",
            "    accuracy                           0.92      9169\n",
            "   macro avg       0.91      0.91      0.91      9169\n",
            "weighted avg       0.92      0.92      0.92      9169\n",
            "\n",
            "\n",
            "New best model saved to ./sentiment_model with accuracy: 0.9150\n",
            "\n",
            "--- Epoch 64/100 ---\n"
          ]
        },
        {
          "data": {
            "application/vnd.jupyter.widget-view+json": {
              "model_id": "",
              "version_major": 2,
              "version_minor": 0
            },
            "text/plain": [
              "Training:   0%|          | 0/812 [00:00<?, ?it/s]"
            ]
          },
          "metadata": {},
          "output_type": "display_data"
        },
        {
          "name": "stdout",
          "output_type": "stream",
          "text": [
            "Training Loss: 0.1308\n"
          ]
        },
        {
          "data": {
            "application/vnd.jupyter.widget-view+json": {
              "model_id": "",
              "version_major": 2,
              "version_minor": 0
            },
            "text/plain": [
              "Evaluating:   0%|          | 0/144 [00:00<?, ?it/s]"
            ]
          },
          "metadata": {},
          "output_type": "display_data"
        },
        {
          "name": "stdout",
          "output_type": "stream",
          "text": [
            "Validation Loss: 0.2895 | Validation Accuracy: 0.9138\n",
            "Classification Report:\n",
            "               precision    recall  f1-score   support\n",
            "\n",
            "    Negative       0.92      0.93      0.92      3354\n",
            "     Neutral       0.90      0.91      0.91      2716\n",
            "    Positive       0.92      0.90      0.91      3099\n",
            "\n",
            "    accuracy                           0.91      9169\n",
            "   macro avg       0.91      0.91      0.91      9169\n",
            "weighted avg       0.91      0.91      0.91      9169\n",
            "\n",
            "\n",
            "--- Epoch 65/100 ---\n"
          ]
        },
        {
          "data": {
            "application/vnd.jupyter.widget-view+json": {
              "model_id": "",
              "version_major": 2,
              "version_minor": 0
            },
            "text/plain": [
              "Training:   0%|          | 0/812 [00:00<?, ?it/s]"
            ]
          },
          "metadata": {},
          "output_type": "display_data"
        },
        {
          "name": "stdout",
          "output_type": "stream",
          "text": [
            "Training Loss: 0.1285\n"
          ]
        },
        {
          "data": {
            "application/vnd.jupyter.widget-view+json": {
              "model_id": "",
              "version_major": 2,
              "version_minor": 0
            },
            "text/plain": [
              "Evaluating:   0%|          | 0/144 [00:00<?, ?it/s]"
            ]
          },
          "metadata": {},
          "output_type": "display_data"
        },
        {
          "name": "stdout",
          "output_type": "stream",
          "text": [
            "Validation Loss: 0.2945 | Validation Accuracy: 0.9146\n",
            "Classification Report:\n",
            "               precision    recall  f1-score   support\n",
            "\n",
            "    Negative       0.94      0.91      0.92      3354\n",
            "     Neutral       0.89      0.93      0.91      2716\n",
            "    Positive       0.91      0.91      0.91      3099\n",
            "\n",
            "    accuracy                           0.91      9169\n",
            "   macro avg       0.91      0.92      0.91      9169\n",
            "weighted avg       0.92      0.91      0.91      9169\n",
            "\n",
            "\n",
            "--- Epoch 66/100 ---\n"
          ]
        },
        {
          "data": {
            "application/vnd.jupyter.widget-view+json": {
              "model_id": "",
              "version_major": 2,
              "version_minor": 0
            },
            "text/plain": [
              "Training:   0%|          | 0/812 [00:00<?, ?it/s]"
            ]
          },
          "metadata": {},
          "output_type": "display_data"
        },
        {
          "name": "stdout",
          "output_type": "stream",
          "text": [
            "Training Loss: 0.1255\n"
          ]
        },
        {
          "data": {
            "application/vnd.jupyter.widget-view+json": {
              "model_id": "",
              "version_major": 2,
              "version_minor": 0
            },
            "text/plain": [
              "Evaluating:   0%|          | 0/144 [00:00<?, ?it/s]"
            ]
          },
          "metadata": {},
          "output_type": "display_data"
        },
        {
          "name": "stdout",
          "output_type": "stream",
          "text": [
            "Validation Loss: 0.2955 | Validation Accuracy: 0.9160\n",
            "Classification Report:\n",
            "               precision    recall  f1-score   support\n",
            "\n",
            "    Negative       0.91      0.93      0.92      3354\n",
            "     Neutral       0.90      0.92      0.91      2716\n",
            "    Positive       0.93      0.90      0.91      3099\n",
            "\n",
            "    accuracy                           0.92      9169\n",
            "   macro avg       0.92      0.92      0.92      9169\n",
            "weighted avg       0.92      0.92      0.92      9169\n",
            "\n",
            "\n",
            "New best model saved to ./sentiment_model with accuracy: 0.9160\n",
            "\n",
            "--- Epoch 67/100 ---\n"
          ]
        },
        {
          "data": {
            "application/vnd.jupyter.widget-view+json": {
              "model_id": "",
              "version_major": 2,
              "version_minor": 0
            },
            "text/plain": [
              "Training:   0%|          | 0/812 [00:00<?, ?it/s]"
            ]
          },
          "metadata": {},
          "output_type": "display_data"
        },
        {
          "name": "stdout",
          "output_type": "stream",
          "text": [
            "Training Loss: 0.1260\n"
          ]
        },
        {
          "data": {
            "application/vnd.jupyter.widget-view+json": {
              "model_id": "",
              "version_major": 2,
              "version_minor": 0
            },
            "text/plain": [
              "Evaluating:   0%|          | 0/144 [00:00<?, ?it/s]"
            ]
          },
          "metadata": {},
          "output_type": "display_data"
        },
        {
          "name": "stdout",
          "output_type": "stream",
          "text": [
            "Validation Loss: 0.2931 | Validation Accuracy: 0.9150\n",
            "Classification Report:\n",
            "               precision    recall  f1-score   support\n",
            "\n",
            "    Negative       0.93      0.92      0.93      3354\n",
            "     Neutral       0.90      0.91      0.91      2716\n",
            "    Positive       0.90      0.91      0.91      3099\n",
            "\n",
            "    accuracy                           0.92      9169\n",
            "   macro avg       0.91      0.91      0.91      9169\n",
            "weighted avg       0.92      0.92      0.92      9169\n",
            "\n",
            "\n",
            "--- Epoch 68/100 ---\n"
          ]
        },
        {
          "data": {
            "application/vnd.jupyter.widget-view+json": {
              "model_id": "",
              "version_major": 2,
              "version_minor": 0
            },
            "text/plain": [
              "Training:   0%|          | 0/812 [00:00<?, ?it/s]"
            ]
          },
          "metadata": {},
          "output_type": "display_data"
        },
        {
          "name": "stdout",
          "output_type": "stream",
          "text": [
            "Training Loss: 0.1226\n"
          ]
        },
        {
          "data": {
            "application/vnd.jupyter.widget-view+json": {
              "model_id": "",
              "version_major": 2,
              "version_minor": 0
            },
            "text/plain": [
              "Evaluating:   0%|          | 0/144 [00:00<?, ?it/s]"
            ]
          },
          "metadata": {},
          "output_type": "display_data"
        },
        {
          "name": "stdout",
          "output_type": "stream",
          "text": [
            "Validation Loss: 0.2920 | Validation Accuracy: 0.9161\n",
            "Classification Report:\n",
            "               precision    recall  f1-score   support\n",
            "\n",
            "    Negative       0.93      0.92      0.92      3354\n",
            "     Neutral       0.90      0.92      0.91      2716\n",
            "    Positive       0.91      0.91      0.91      3099\n",
            "\n",
            "    accuracy                           0.92      9169\n",
            "   macro avg       0.92      0.92      0.92      9169\n",
            "weighted avg       0.92      0.92      0.92      9169\n",
            "\n",
            "\n",
            "New best model saved to ./sentiment_model with accuracy: 0.9161\n",
            "\n",
            "--- Epoch 69/100 ---\n"
          ]
        },
        {
          "data": {
            "application/vnd.jupyter.widget-view+json": {
              "model_id": "",
              "version_major": 2,
              "version_minor": 0
            },
            "text/plain": [
              "Training:   0%|          | 0/812 [00:00<?, ?it/s]"
            ]
          },
          "metadata": {},
          "output_type": "display_data"
        },
        {
          "name": "stdout",
          "output_type": "stream",
          "text": [
            "Training Loss: 0.1176\n"
          ]
        },
        {
          "data": {
            "application/vnd.jupyter.widget-view+json": {
              "model_id": "",
              "version_major": 2,
              "version_minor": 0
            },
            "text/plain": [
              "Evaluating:   0%|          | 0/144 [00:00<?, ?it/s]"
            ]
          },
          "metadata": {},
          "output_type": "display_data"
        },
        {
          "name": "stdout",
          "output_type": "stream",
          "text": [
            "Validation Loss: 0.2949 | Validation Accuracy: 0.9180\n",
            "Classification Report:\n",
            "               precision    recall  f1-score   support\n",
            "\n",
            "    Negative       0.93      0.92      0.93      3354\n",
            "     Neutral       0.90      0.93      0.91      2716\n",
            "    Positive       0.92      0.91      0.91      3099\n",
            "\n",
            "    accuracy                           0.92      9169\n",
            "   macro avg       0.92      0.92      0.92      9169\n",
            "weighted avg       0.92      0.92      0.92      9169\n",
            "\n",
            "\n",
            "New best model saved to ./sentiment_model with accuracy: 0.9180\n",
            "\n",
            "--- Epoch 70/100 ---\n"
          ]
        },
        {
          "data": {
            "application/vnd.jupyter.widget-view+json": {
              "model_id": "",
              "version_major": 2,
              "version_minor": 0
            },
            "text/plain": [
              "Training:   0%|          | 0/812 [00:00<?, ?it/s]"
            ]
          },
          "metadata": {},
          "output_type": "display_data"
        },
        {
          "name": "stdout",
          "output_type": "stream",
          "text": [
            "Training Loss: 0.1199\n"
          ]
        },
        {
          "data": {
            "application/vnd.jupyter.widget-view+json": {
              "model_id": "",
              "version_major": 2,
              "version_minor": 0
            },
            "text/plain": [
              "Evaluating:   0%|          | 0/144 [00:00<?, ?it/s]"
            ]
          },
          "metadata": {},
          "output_type": "display_data"
        },
        {
          "name": "stdout",
          "output_type": "stream",
          "text": [
            "Validation Loss: 0.3023 | Validation Accuracy: 0.9154\n",
            "Classification Report:\n",
            "               precision    recall  f1-score   support\n",
            "\n",
            "    Negative       0.94      0.91      0.92      3354\n",
            "     Neutral       0.88      0.93      0.91      2716\n",
            "    Positive       0.92      0.91      0.91      3099\n",
            "\n",
            "    accuracy                           0.92      9169\n",
            "   macro avg       0.91      0.92      0.91      9169\n",
            "weighted avg       0.92      0.92      0.92      9169\n",
            "\n",
            "\n",
            "--- Epoch 71/100 ---\n"
          ]
        },
        {
          "data": {
            "application/vnd.jupyter.widget-view+json": {
              "model_id": "",
              "version_major": 2,
              "version_minor": 0
            },
            "text/plain": [
              "Training:   0%|          | 0/812 [00:00<?, ?it/s]"
            ]
          },
          "metadata": {},
          "output_type": "display_data"
        },
        {
          "name": "stdout",
          "output_type": "stream",
          "text": [
            "Training Loss: 0.1155\n"
          ]
        },
        {
          "data": {
            "application/vnd.jupyter.widget-view+json": {
              "model_id": "",
              "version_major": 2,
              "version_minor": 0
            },
            "text/plain": [
              "Evaluating:   0%|          | 0/144 [00:00<?, ?it/s]"
            ]
          },
          "metadata": {},
          "output_type": "display_data"
        },
        {
          "name": "stdout",
          "output_type": "stream",
          "text": [
            "Validation Loss: 0.2939 | Validation Accuracy: 0.9171\n",
            "Classification Report:\n",
            "               precision    recall  f1-score   support\n",
            "\n",
            "    Negative       0.94      0.92      0.93      3354\n",
            "     Neutral       0.90      0.92      0.91      2716\n",
            "    Positive       0.91      0.91      0.91      3099\n",
            "\n",
            "    accuracy                           0.92      9169\n",
            "   macro avg       0.92      0.92      0.92      9169\n",
            "weighted avg       0.92      0.92      0.92      9169\n",
            "\n",
            "\n",
            "--- Epoch 72/100 ---\n"
          ]
        },
        {
          "data": {
            "application/vnd.jupyter.widget-view+json": {
              "model_id": "",
              "version_major": 2,
              "version_minor": 0
            },
            "text/plain": [
              "Training:   0%|          | 0/812 [00:00<?, ?it/s]"
            ]
          },
          "metadata": {},
          "output_type": "display_data"
        },
        {
          "name": "stdout",
          "output_type": "stream",
          "text": [
            "Training Loss: 0.1166\n"
          ]
        },
        {
          "data": {
            "application/vnd.jupyter.widget-view+json": {
              "model_id": "",
              "version_major": 2,
              "version_minor": 0
            },
            "text/plain": [
              "Evaluating:   0%|          | 0/144 [00:00<?, ?it/s]"
            ]
          },
          "metadata": {},
          "output_type": "display_data"
        },
        {
          "name": "stdout",
          "output_type": "stream",
          "text": [
            "Validation Loss: 0.2959 | Validation Accuracy: 0.9175\n",
            "Classification Report:\n",
            "               precision    recall  f1-score   support\n",
            "\n",
            "    Negative       0.94      0.92      0.93      3354\n",
            "     Neutral       0.89      0.93      0.91      2716\n",
            "    Positive       0.92      0.91      0.91      3099\n",
            "\n",
            "    accuracy                           0.92      9169\n",
            "   macro avg       0.92      0.92      0.92      9169\n",
            "weighted avg       0.92      0.92      0.92      9169\n",
            "\n",
            "\n",
            "--- Epoch 73/100 ---\n"
          ]
        },
        {
          "data": {
            "application/vnd.jupyter.widget-view+json": {
              "model_id": "",
              "version_major": 2,
              "version_minor": 0
            },
            "text/plain": [
              "Training:   0%|          | 0/812 [00:00<?, ?it/s]"
            ]
          },
          "metadata": {},
          "output_type": "display_data"
        },
        {
          "name": "stdout",
          "output_type": "stream",
          "text": [
            "Training Loss: 0.1135\n"
          ]
        },
        {
          "data": {
            "application/vnd.jupyter.widget-view+json": {
              "model_id": "",
              "version_major": 2,
              "version_minor": 0
            },
            "text/plain": [
              "Evaluating:   0%|          | 0/144 [00:00<?, ?it/s]"
            ]
          },
          "metadata": {},
          "output_type": "display_data"
        },
        {
          "name": "stdout",
          "output_type": "stream",
          "text": [
            "Validation Loss: 0.2922 | Validation Accuracy: 0.9175\n",
            "Classification Report:\n",
            "               precision    recall  f1-score   support\n",
            "\n",
            "    Negative       0.94      0.91      0.93      3354\n",
            "     Neutral       0.90      0.93      0.91      2716\n",
            "    Positive       0.91      0.92      0.91      3099\n",
            "\n",
            "    accuracy                           0.92      9169\n",
            "   macro avg       0.92      0.92      0.92      9169\n",
            "weighted avg       0.92      0.92      0.92      9169\n",
            "\n",
            "\n",
            "--- Epoch 74/100 ---\n"
          ]
        },
        {
          "data": {
            "application/vnd.jupyter.widget-view+json": {
              "model_id": "",
              "version_major": 2,
              "version_minor": 0
            },
            "text/plain": [
              "Training:   0%|          | 0/812 [00:00<?, ?it/s]"
            ]
          },
          "metadata": {},
          "output_type": "display_data"
        },
        {
          "name": "stdout",
          "output_type": "stream",
          "text": [
            "Training Loss: 0.1101\n"
          ]
        },
        {
          "data": {
            "application/vnd.jupyter.widget-view+json": {
              "model_id": "",
              "version_major": 2,
              "version_minor": 0
            },
            "text/plain": [
              "Evaluating:   0%|          | 0/144 [00:00<?, ?it/s]"
            ]
          },
          "metadata": {},
          "output_type": "display_data"
        },
        {
          "name": "stdout",
          "output_type": "stream",
          "text": [
            "Validation Loss: 0.2946 | Validation Accuracy: 0.9201\n",
            "Classification Report:\n",
            "               precision    recall  f1-score   support\n",
            "\n",
            "    Negative       0.94      0.91      0.93      3354\n",
            "     Neutral       0.90      0.93      0.91      2716\n",
            "    Positive       0.91      0.92      0.92      3099\n",
            "\n",
            "    accuracy                           0.92      9169\n",
            "   macro avg       0.92      0.92      0.92      9169\n",
            "weighted avg       0.92      0.92      0.92      9169\n",
            "\n",
            "\n",
            "New best model saved to ./sentiment_model with accuracy: 0.9201\n",
            "\n",
            "--- Epoch 75/100 ---\n"
          ]
        },
        {
          "data": {
            "application/vnd.jupyter.widget-view+json": {
              "model_id": "",
              "version_major": 2,
              "version_minor": 0
            },
            "text/plain": [
              "Training:   0%|          | 0/812 [00:00<?, ?it/s]"
            ]
          },
          "metadata": {},
          "output_type": "display_data"
        },
        {
          "name": "stdout",
          "output_type": "stream",
          "text": [
            "Training Loss: 0.1073\n"
          ]
        },
        {
          "data": {
            "application/vnd.jupyter.widget-view+json": {
              "model_id": "",
              "version_major": 2,
              "version_minor": 0
            },
            "text/plain": [
              "Evaluating:   0%|          | 0/144 [00:00<?, ?it/s]"
            ]
          },
          "metadata": {},
          "output_type": "display_data"
        },
        {
          "name": "stdout",
          "output_type": "stream",
          "text": [
            "Validation Loss: 0.2975 | Validation Accuracy: 0.9196\n",
            "Classification Report:\n",
            "               precision    recall  f1-score   support\n",
            "\n",
            "    Negative       0.92      0.93      0.92      3354\n",
            "     Neutral       0.91      0.93      0.92      2716\n",
            "    Positive       0.93      0.90      0.92      3099\n",
            "\n",
            "    accuracy                           0.92      9169\n",
            "   macro avg       0.92      0.92      0.92      9169\n",
            "weighted avg       0.92      0.92      0.92      9169\n",
            "\n",
            "\n",
            "--- Epoch 76/100 ---\n"
          ]
        },
        {
          "data": {
            "application/vnd.jupyter.widget-view+json": {
              "model_id": "",
              "version_major": 2,
              "version_minor": 0
            },
            "text/plain": [
              "Training:   0%|          | 0/812 [00:00<?, ?it/s]"
            ]
          },
          "metadata": {},
          "output_type": "display_data"
        },
        {
          "name": "stdout",
          "output_type": "stream",
          "text": [
            "Training Loss: 0.1099\n"
          ]
        },
        {
          "data": {
            "application/vnd.jupyter.widget-view+json": {
              "model_id": "",
              "version_major": 2,
              "version_minor": 0
            },
            "text/plain": [
              "Evaluating:   0%|          | 0/144 [00:00<?, ?it/s]"
            ]
          },
          "metadata": {},
          "output_type": "display_data"
        },
        {
          "name": "stdout",
          "output_type": "stream",
          "text": [
            "Validation Loss: 0.2977 | Validation Accuracy: 0.9199\n",
            "Classification Report:\n",
            "               precision    recall  f1-score   support\n",
            "\n",
            "    Negative       0.92      0.93      0.92      3354\n",
            "     Neutral       0.92      0.92      0.92      2716\n",
            "    Positive       0.92      0.91      0.92      3099\n",
            "\n",
            "    accuracy                           0.92      9169\n",
            "   macro avg       0.92      0.92      0.92      9169\n",
            "weighted avg       0.92      0.92      0.92      9169\n",
            "\n",
            "\n",
            "--- Epoch 77/100 ---\n"
          ]
        },
        {
          "data": {
            "application/vnd.jupyter.widget-view+json": {
              "model_id": "",
              "version_major": 2,
              "version_minor": 0
            },
            "text/plain": [
              "Training:   0%|          | 0/812 [00:00<?, ?it/s]"
            ]
          },
          "metadata": {},
          "output_type": "display_data"
        },
        {
          "name": "stdout",
          "output_type": "stream",
          "text": [
            "Training Loss: 0.1050\n"
          ]
        },
        {
          "data": {
            "application/vnd.jupyter.widget-view+json": {
              "model_id": "",
              "version_major": 2,
              "version_minor": 0
            },
            "text/plain": [
              "Evaluating:   0%|          | 0/144 [00:00<?, ?it/s]"
            ]
          },
          "metadata": {},
          "output_type": "display_data"
        },
        {
          "name": "stdout",
          "output_type": "stream",
          "text": [
            "Validation Loss: 0.3012 | Validation Accuracy: 0.9182\n",
            "Classification Report:\n",
            "               precision    recall  f1-score   support\n",
            "\n",
            "    Negative       0.92      0.92      0.92      3354\n",
            "     Neutral       0.92      0.92      0.92      2716\n",
            "    Positive       0.92      0.91      0.91      3099\n",
            "\n",
            "    accuracy                           0.92      9169\n",
            "   macro avg       0.92      0.92      0.92      9169\n",
            "weighted avg       0.92      0.92      0.92      9169\n",
            "\n",
            "\n",
            "--- Epoch 78/100 ---\n"
          ]
        },
        {
          "data": {
            "application/vnd.jupyter.widget-view+json": {
              "model_id": "",
              "version_major": 2,
              "version_minor": 0
            },
            "text/plain": [
              "Training:   0%|          | 0/812 [00:00<?, ?it/s]"
            ]
          },
          "metadata": {},
          "output_type": "display_data"
        },
        {
          "name": "stdout",
          "output_type": "stream",
          "text": [
            "Training Loss: 0.1075\n"
          ]
        },
        {
          "data": {
            "application/vnd.jupyter.widget-view+json": {
              "model_id": "",
              "version_major": 2,
              "version_minor": 0
            },
            "text/plain": [
              "Evaluating:   0%|          | 0/144 [00:00<?, ?it/s]"
            ]
          },
          "metadata": {},
          "output_type": "display_data"
        },
        {
          "name": "stdout",
          "output_type": "stream",
          "text": [
            "Validation Loss: 0.3028 | Validation Accuracy: 0.9166\n",
            "Classification Report:\n",
            "               precision    recall  f1-score   support\n",
            "\n",
            "    Negative       0.92      0.92      0.92      3354\n",
            "     Neutral       0.91      0.92      0.91      2716\n",
            "    Positive       0.92      0.91      0.91      3099\n",
            "\n",
            "    accuracy                           0.92      9169\n",
            "   macro avg       0.92      0.92      0.92      9169\n",
            "weighted avg       0.92      0.92      0.92      9169\n",
            "\n",
            "\n",
            "--- Epoch 79/100 ---\n"
          ]
        },
        {
          "data": {
            "application/vnd.jupyter.widget-view+json": {
              "model_id": "",
              "version_major": 2,
              "version_minor": 0
            },
            "text/plain": [
              "Training:   0%|          | 0/812 [00:00<?, ?it/s]"
            ]
          },
          "metadata": {},
          "output_type": "display_data"
        },
        {
          "name": "stdout",
          "output_type": "stream",
          "text": [
            "Training Loss: 0.1011\n"
          ]
        },
        {
          "data": {
            "application/vnd.jupyter.widget-view+json": {
              "model_id": "",
              "version_major": 2,
              "version_minor": 0
            },
            "text/plain": [
              "Evaluating:   0%|          | 0/144 [00:00<?, ?it/s]"
            ]
          },
          "metadata": {},
          "output_type": "display_data"
        },
        {
          "name": "stdout",
          "output_type": "stream",
          "text": [
            "Validation Loss: 0.3030 | Validation Accuracy: 0.9205\n",
            "Classification Report:\n",
            "               precision    recall  f1-score   support\n",
            "\n",
            "    Negative       0.94      0.92      0.93      3354\n",
            "     Neutral       0.90      0.93      0.91      2716\n",
            "    Positive       0.92      0.91      0.92      3099\n",
            "\n",
            "    accuracy                           0.92      9169\n",
            "   macro avg       0.92      0.92      0.92      9169\n",
            "weighted avg       0.92      0.92      0.92      9169\n",
            "\n",
            "\n",
            "New best model saved to ./sentiment_model with accuracy: 0.9205\n",
            "\n",
            "--- Epoch 80/100 ---\n"
          ]
        },
        {
          "data": {
            "application/vnd.jupyter.widget-view+json": {
              "model_id": "",
              "version_major": 2,
              "version_minor": 0
            },
            "text/plain": [
              "Training:   0%|          | 0/812 [00:00<?, ?it/s]"
            ]
          },
          "metadata": {},
          "output_type": "display_data"
        },
        {
          "name": "stdout",
          "output_type": "stream",
          "text": [
            "Training Loss: 0.1013\n"
          ]
        },
        {
          "data": {
            "application/vnd.jupyter.widget-view+json": {
              "model_id": "",
              "version_major": 2,
              "version_minor": 0
            },
            "text/plain": [
              "Evaluating:   0%|          | 0/144 [00:00<?, ?it/s]"
            ]
          },
          "metadata": {},
          "output_type": "display_data"
        },
        {
          "name": "stdout",
          "output_type": "stream",
          "text": [
            "Validation Loss: 0.3043 | Validation Accuracy: 0.9189\n",
            "Classification Report:\n",
            "               precision    recall  f1-score   support\n",
            "\n",
            "    Negative       0.92      0.93      0.93      3354\n",
            "     Neutral       0.91      0.92      0.91      2716\n",
            "    Positive       0.93      0.91      0.92      3099\n",
            "\n",
            "    accuracy                           0.92      9169\n",
            "   macro avg       0.92      0.92      0.92      9169\n",
            "weighted avg       0.92      0.92      0.92      9169\n",
            "\n",
            "\n",
            "--- Epoch 81/100 ---\n"
          ]
        },
        {
          "data": {
            "application/vnd.jupyter.widget-view+json": {
              "model_id": "",
              "version_major": 2,
              "version_minor": 0
            },
            "text/plain": [
              "Training:   0%|          | 0/812 [00:00<?, ?it/s]"
            ]
          },
          "metadata": {},
          "output_type": "display_data"
        },
        {
          "name": "stdout",
          "output_type": "stream",
          "text": [
            "Training Loss: 0.0993\n"
          ]
        },
        {
          "data": {
            "application/vnd.jupyter.widget-view+json": {
              "model_id": "",
              "version_major": 2,
              "version_minor": 0
            },
            "text/plain": [
              "Evaluating:   0%|          | 0/144 [00:00<?, ?it/s]"
            ]
          },
          "metadata": {},
          "output_type": "display_data"
        },
        {
          "name": "stdout",
          "output_type": "stream",
          "text": [
            "Validation Loss: 0.3062 | Validation Accuracy: 0.9209\n",
            "Classification Report:\n",
            "               precision    recall  f1-score   support\n",
            "\n",
            "    Negative       0.93      0.93      0.93      3354\n",
            "     Neutral       0.90      0.93      0.92      2716\n",
            "    Positive       0.93      0.91      0.92      3099\n",
            "\n",
            "    accuracy                           0.92      9169\n",
            "   macro avg       0.92      0.92      0.92      9169\n",
            "weighted avg       0.92      0.92      0.92      9169\n",
            "\n",
            "\n",
            "New best model saved to ./sentiment_model with accuracy: 0.9209\n",
            "\n",
            "--- Epoch 82/100 ---\n"
          ]
        },
        {
          "data": {
            "application/vnd.jupyter.widget-view+json": {
              "model_id": "",
              "version_major": 2,
              "version_minor": 0
            },
            "text/plain": [
              "Training:   0%|          | 0/812 [00:00<?, ?it/s]"
            ]
          },
          "metadata": {},
          "output_type": "display_data"
        },
        {
          "name": "stdout",
          "output_type": "stream",
          "text": [
            "Training Loss: 0.0994\n"
          ]
        },
        {
          "data": {
            "application/vnd.jupyter.widget-view+json": {
              "model_id": "",
              "version_major": 2,
              "version_minor": 0
            },
            "text/plain": [
              "Evaluating:   0%|          | 0/144 [00:00<?, ?it/s]"
            ]
          },
          "metadata": {},
          "output_type": "display_data"
        },
        {
          "name": "stdout",
          "output_type": "stream",
          "text": [
            "Validation Loss: 0.3056 | Validation Accuracy: 0.9203\n",
            "Classification Report:\n",
            "               precision    recall  f1-score   support\n",
            "\n",
            "    Negative       0.93      0.92      0.93      3354\n",
            "     Neutral       0.90      0.93      0.92      2716\n",
            "    Positive       0.92      0.91      0.92      3099\n",
            "\n",
            "    accuracy                           0.92      9169\n",
            "   macro avg       0.92      0.92      0.92      9169\n",
            "weighted avg       0.92      0.92      0.92      9169\n",
            "\n",
            "\n",
            "--- Epoch 83/100 ---\n"
          ]
        },
        {
          "data": {
            "application/vnd.jupyter.widget-view+json": {
              "model_id": "",
              "version_major": 2,
              "version_minor": 0
            },
            "text/plain": [
              "Training:   0%|          | 0/812 [00:00<?, ?it/s]"
            ]
          },
          "metadata": {},
          "output_type": "display_data"
        },
        {
          "name": "stdout",
          "output_type": "stream",
          "text": [
            "Training Loss: 0.0966\n"
          ]
        },
        {
          "data": {
            "application/vnd.jupyter.widget-view+json": {
              "model_id": "",
              "version_major": 2,
              "version_minor": 0
            },
            "text/plain": [
              "Evaluating:   0%|          | 0/144 [00:00<?, ?it/s]"
            ]
          },
          "metadata": {},
          "output_type": "display_data"
        },
        {
          "name": "stdout",
          "output_type": "stream",
          "text": [
            "Validation Loss: 0.3054 | Validation Accuracy: 0.9215\n",
            "Classification Report:\n",
            "               precision    recall  f1-score   support\n",
            "\n",
            "    Negative       0.92      0.93      0.93      3354\n",
            "     Neutral       0.92      0.92      0.92      2716\n",
            "    Positive       0.93      0.91      0.92      3099\n",
            "\n",
            "    accuracy                           0.92      9169\n",
            "   macro avg       0.92      0.92      0.92      9169\n",
            "weighted avg       0.92      0.92      0.92      9169\n",
            "\n",
            "\n",
            "New best model saved to ./sentiment_model with accuracy: 0.9215\n",
            "\n",
            "--- Epoch 84/100 ---\n"
          ]
        },
        {
          "data": {
            "application/vnd.jupyter.widget-view+json": {
              "model_id": "",
              "version_major": 2,
              "version_minor": 0
            },
            "text/plain": [
              "Training:   0%|          | 0/812 [00:00<?, ?it/s]"
            ]
          },
          "metadata": {},
          "output_type": "display_data"
        },
        {
          "name": "stdout",
          "output_type": "stream",
          "text": [
            "Training Loss: 0.0943\n"
          ]
        },
        {
          "data": {
            "application/vnd.jupyter.widget-view+json": {
              "model_id": "",
              "version_major": 2,
              "version_minor": 0
            },
            "text/plain": [
              "Evaluating:   0%|          | 0/144 [00:00<?, ?it/s]"
            ]
          },
          "metadata": {},
          "output_type": "display_data"
        },
        {
          "name": "stdout",
          "output_type": "stream",
          "text": [
            "Validation Loss: 0.3158 | Validation Accuracy: 0.9196\n",
            "Classification Report:\n",
            "               precision    recall  f1-score   support\n",
            "\n",
            "    Negative       0.95      0.91      0.93      3354\n",
            "     Neutral       0.89      0.94      0.91      2716\n",
            "    Positive       0.92      0.91      0.92      3099\n",
            "\n",
            "    accuracy                           0.92      9169\n",
            "   macro avg       0.92      0.92      0.92      9169\n",
            "weighted avg       0.92      0.92      0.92      9169\n",
            "\n",
            "\n",
            "--- Epoch 85/100 ---\n"
          ]
        },
        {
          "data": {
            "application/vnd.jupyter.widget-view+json": {
              "model_id": "",
              "version_major": 2,
              "version_minor": 0
            },
            "text/plain": [
              "Training:   0%|          | 0/812 [00:00<?, ?it/s]"
            ]
          },
          "metadata": {},
          "output_type": "display_data"
        },
        {
          "name": "stdout",
          "output_type": "stream",
          "text": [
            "Training Loss: 0.0933\n"
          ]
        },
        {
          "data": {
            "application/vnd.jupyter.widget-view+json": {
              "model_id": "",
              "version_major": 2,
              "version_minor": 0
            },
            "text/plain": [
              "Evaluating:   0%|          | 0/144 [00:00<?, ?it/s]"
            ]
          },
          "metadata": {},
          "output_type": "display_data"
        },
        {
          "name": "stdout",
          "output_type": "stream",
          "text": [
            "Validation Loss: 0.3085 | Validation Accuracy: 0.9204\n",
            "Classification Report:\n",
            "               precision    recall  f1-score   support\n",
            "\n",
            "    Negative       0.94      0.92      0.93      3354\n",
            "     Neutral       0.90      0.93      0.91      2716\n",
            "    Positive       0.92      0.92      0.92      3099\n",
            "\n",
            "    accuracy                           0.92      9169\n",
            "   macro avg       0.92      0.92      0.92      9169\n",
            "weighted avg       0.92      0.92      0.92      9169\n",
            "\n",
            "\n",
            "--- Epoch 86/100 ---\n"
          ]
        },
        {
          "data": {
            "application/vnd.jupyter.widget-view+json": {
              "model_id": "",
              "version_major": 2,
              "version_minor": 0
            },
            "text/plain": [
              "Training:   0%|          | 0/812 [00:00<?, ?it/s]"
            ]
          },
          "metadata": {},
          "output_type": "display_data"
        },
        {
          "name": "stdout",
          "output_type": "stream",
          "text": [
            "Training Loss: 0.0947\n"
          ]
        },
        {
          "data": {
            "application/vnd.jupyter.widget-view+json": {
              "model_id": "",
              "version_major": 2,
              "version_minor": 0
            },
            "text/plain": [
              "Evaluating:   0%|          | 0/144 [00:00<?, ?it/s]"
            ]
          },
          "metadata": {},
          "output_type": "display_data"
        },
        {
          "name": "stdout",
          "output_type": "stream",
          "text": [
            "Validation Loss: 0.3097 | Validation Accuracy: 0.9195\n",
            "Classification Report:\n",
            "               precision    recall  f1-score   support\n",
            "\n",
            "    Negative       0.93      0.93      0.93      3354\n",
            "     Neutral       0.91      0.92      0.91      2716\n",
            "    Positive       0.92      0.91      0.92      3099\n",
            "\n",
            "    accuracy                           0.92      9169\n",
            "   macro avg       0.92      0.92      0.92      9169\n",
            "weighted avg       0.92      0.92      0.92      9169\n",
            "\n",
            "\n",
            "--- Epoch 87/100 ---\n"
          ]
        },
        {
          "data": {
            "application/vnd.jupyter.widget-view+json": {
              "model_id": "",
              "version_major": 2,
              "version_minor": 0
            },
            "text/plain": [
              "Training:   0%|          | 0/812 [00:00<?, ?it/s]"
            ]
          },
          "metadata": {},
          "output_type": "display_data"
        },
        {
          "name": "stdout",
          "output_type": "stream",
          "text": [
            "Training Loss: 0.0921\n"
          ]
        },
        {
          "data": {
            "application/vnd.jupyter.widget-view+json": {
              "model_id": "",
              "version_major": 2,
              "version_minor": 0
            },
            "text/plain": [
              "Evaluating:   0%|          | 0/144 [00:00<?, ?it/s]"
            ]
          },
          "metadata": {},
          "output_type": "display_data"
        },
        {
          "name": "stdout",
          "output_type": "stream",
          "text": [
            "Validation Loss: 0.3105 | Validation Accuracy: 0.9192\n",
            "Classification Report:\n",
            "               precision    recall  f1-score   support\n",
            "\n",
            "    Negative       0.92      0.93      0.92      3354\n",
            "     Neutral       0.91      0.92      0.92      2716\n",
            "    Positive       0.92      0.91      0.92      3099\n",
            "\n",
            "    accuracy                           0.92      9169\n",
            "   macro avg       0.92      0.92      0.92      9169\n",
            "weighted avg       0.92      0.92      0.92      9169\n",
            "\n",
            "\n",
            "--- Epoch 88/100 ---\n"
          ]
        },
        {
          "data": {
            "application/vnd.jupyter.widget-view+json": {
              "model_id": "",
              "version_major": 2,
              "version_minor": 0
            },
            "text/plain": [
              "Training:   0%|          | 0/812 [00:00<?, ?it/s]"
            ]
          },
          "metadata": {},
          "output_type": "display_data"
        },
        {
          "name": "stdout",
          "output_type": "stream",
          "text": [
            "Training Loss: 0.0908\n"
          ]
        },
        {
          "data": {
            "application/vnd.jupyter.widget-view+json": {
              "model_id": "",
              "version_major": 2,
              "version_minor": 0
            },
            "text/plain": [
              "Evaluating:   0%|          | 0/144 [00:00<?, ?it/s]"
            ]
          },
          "metadata": {},
          "output_type": "display_data"
        },
        {
          "name": "stdout",
          "output_type": "stream",
          "text": [
            "Validation Loss: 0.3132 | Validation Accuracy: 0.9203\n",
            "Classification Report:\n",
            "               precision    recall  f1-score   support\n",
            "\n",
            "    Negative       0.92      0.93      0.93      3354\n",
            "     Neutral       0.91      0.92      0.92      2716\n",
            "    Positive       0.93      0.91      0.92      3099\n",
            "\n",
            "    accuracy                           0.92      9169\n",
            "   macro avg       0.92      0.92      0.92      9169\n",
            "weighted avg       0.92      0.92      0.92      9169\n",
            "\n",
            "\n",
            "--- Epoch 89/100 ---\n"
          ]
        },
        {
          "data": {
            "application/vnd.jupyter.widget-view+json": {
              "model_id": "",
              "version_major": 2,
              "version_minor": 0
            },
            "text/plain": [
              "Training:   0%|          | 0/812 [00:00<?, ?it/s]"
            ]
          },
          "metadata": {},
          "output_type": "display_data"
        },
        {
          "name": "stdout",
          "output_type": "stream",
          "text": [
            "Training Loss: 0.0893\n"
          ]
        },
        {
          "data": {
            "application/vnd.jupyter.widget-view+json": {
              "model_id": "",
              "version_major": 2,
              "version_minor": 0
            },
            "text/plain": [
              "Evaluating:   0%|          | 0/144 [00:00<?, ?it/s]"
            ]
          },
          "metadata": {},
          "output_type": "display_data"
        },
        {
          "name": "stdout",
          "output_type": "stream",
          "text": [
            "Validation Loss: 0.3190 | Validation Accuracy: 0.9187\n",
            "Classification Report:\n",
            "               precision    recall  f1-score   support\n",
            "\n",
            "    Negative       0.93      0.93      0.93      3354\n",
            "     Neutral       0.91      0.92      0.91      2716\n",
            "    Positive       0.92      0.91      0.91      3099\n",
            "\n",
            "    accuracy                           0.92      9169\n",
            "   macro avg       0.92      0.92      0.92      9169\n",
            "weighted avg       0.92      0.92      0.92      9169\n",
            "\n",
            "\n",
            "--- Epoch 90/100 ---\n"
          ]
        },
        {
          "data": {
            "application/vnd.jupyter.widget-view+json": {
              "model_id": "",
              "version_major": 2,
              "version_minor": 0
            },
            "text/plain": [
              "Training:   0%|          | 0/812 [00:00<?, ?it/s]"
            ]
          },
          "metadata": {},
          "output_type": "display_data"
        },
        {
          "name": "stdout",
          "output_type": "stream",
          "text": [
            "Training Loss: 0.0897\n"
          ]
        },
        {
          "data": {
            "application/vnd.jupyter.widget-view+json": {
              "model_id": "",
              "version_major": 2,
              "version_minor": 0
            },
            "text/plain": [
              "Evaluating:   0%|          | 0/144 [00:00<?, ?it/s]"
            ]
          },
          "metadata": {},
          "output_type": "display_data"
        },
        {
          "name": "stdout",
          "output_type": "stream",
          "text": [
            "Validation Loss: 0.3168 | Validation Accuracy: 0.9219\n",
            "Classification Report:\n",
            "               precision    recall  f1-score   support\n",
            "\n",
            "    Negative       0.94      0.92      0.93      3354\n",
            "     Neutral       0.91      0.92      0.92      2716\n",
            "    Positive       0.91      0.93      0.92      3099\n",
            "\n",
            "    accuracy                           0.92      9169\n",
            "   macro avg       0.92      0.92      0.92      9169\n",
            "weighted avg       0.92      0.92      0.92      9169\n",
            "\n",
            "\n",
            "New best model saved to ./sentiment_model with accuracy: 0.9219\n",
            "\n",
            "--- Epoch 91/100 ---\n"
          ]
        },
        {
          "data": {
            "application/vnd.jupyter.widget-view+json": {
              "model_id": "",
              "version_major": 2,
              "version_minor": 0
            },
            "text/plain": [
              "Training:   0%|          | 0/812 [00:00<?, ?it/s]"
            ]
          },
          "metadata": {},
          "output_type": "display_data"
        },
        {
          "name": "stdout",
          "output_type": "stream",
          "text": [
            "Training Loss: 0.0881\n"
          ]
        },
        {
          "data": {
            "application/vnd.jupyter.widget-view+json": {
              "model_id": "",
              "version_major": 2,
              "version_minor": 0
            },
            "text/plain": [
              "Evaluating:   0%|          | 0/144 [00:00<?, ?it/s]"
            ]
          },
          "metadata": {},
          "output_type": "display_data"
        },
        {
          "name": "stdout",
          "output_type": "stream",
          "text": [
            "Validation Loss: 0.3234 | Validation Accuracy: 0.9198\n",
            "Classification Report:\n",
            "               precision    recall  f1-score   support\n",
            "\n",
            "    Negative       0.95      0.91      0.93      3354\n",
            "     Neutral       0.90      0.93      0.91      2716\n",
            "    Positive       0.91      0.92      0.92      3099\n",
            "\n",
            "    accuracy                           0.92      9169\n",
            "   macro avg       0.92      0.92      0.92      9169\n",
            "weighted avg       0.92      0.92      0.92      9169\n",
            "\n",
            "\n",
            "--- Epoch 92/100 ---\n"
          ]
        },
        {
          "data": {
            "application/vnd.jupyter.widget-view+json": {
              "model_id": "",
              "version_major": 2,
              "version_minor": 0
            },
            "text/plain": [
              "Training:   0%|          | 0/812 [00:00<?, ?it/s]"
            ]
          },
          "metadata": {},
          "output_type": "display_data"
        },
        {
          "name": "stdout",
          "output_type": "stream",
          "text": [
            "Training Loss: 0.0889\n"
          ]
        },
        {
          "data": {
            "application/vnd.jupyter.widget-view+json": {
              "model_id": "",
              "version_major": 2,
              "version_minor": 0
            },
            "text/plain": [
              "Evaluating:   0%|          | 0/144 [00:00<?, ?it/s]"
            ]
          },
          "metadata": {},
          "output_type": "display_data"
        },
        {
          "name": "stdout",
          "output_type": "stream",
          "text": [
            "Validation Loss: 0.3202 | Validation Accuracy: 0.9207\n",
            "Classification Report:\n",
            "               precision    recall  f1-score   support\n",
            "\n",
            "    Negative       0.92      0.93      0.93      3354\n",
            "     Neutral       0.91      0.93      0.92      2716\n",
            "    Positive       0.93      0.91      0.92      3099\n",
            "\n",
            "    accuracy                           0.92      9169\n",
            "   macro avg       0.92      0.92      0.92      9169\n",
            "weighted avg       0.92      0.92      0.92      9169\n",
            "\n",
            "\n",
            "--- Epoch 93/100 ---\n"
          ]
        },
        {
          "data": {
            "application/vnd.jupyter.widget-view+json": {
              "model_id": "",
              "version_major": 2,
              "version_minor": 0
            },
            "text/plain": [
              "Training:   0%|          | 0/812 [00:00<?, ?it/s]"
            ]
          },
          "metadata": {},
          "output_type": "display_data"
        },
        {
          "name": "stdout",
          "output_type": "stream",
          "text": [
            "Training Loss: 0.0870\n"
          ]
        },
        {
          "data": {
            "application/vnd.jupyter.widget-view+json": {
              "model_id": "",
              "version_major": 2,
              "version_minor": 0
            },
            "text/plain": [
              "Evaluating:   0%|          | 0/144 [00:00<?, ?it/s]"
            ]
          },
          "metadata": {},
          "output_type": "display_data"
        },
        {
          "name": "stdout",
          "output_type": "stream",
          "text": [
            "Validation Loss: 0.3129 | Validation Accuracy: 0.9210\n",
            "Classification Report:\n",
            "               precision    recall  f1-score   support\n",
            "\n",
            "    Negative       0.91      0.94      0.92      3354\n",
            "     Neutral       0.92      0.92      0.92      2716\n",
            "    Positive       0.93      0.91      0.92      3099\n",
            "\n",
            "    accuracy                           0.92      9169\n",
            "   macro avg       0.92      0.92      0.92      9169\n",
            "weighted avg       0.92      0.92      0.92      9169\n",
            "\n",
            "\n",
            "--- Epoch 94/100 ---\n"
          ]
        },
        {
          "data": {
            "application/vnd.jupyter.widget-view+json": {
              "model_id": "",
              "version_major": 2,
              "version_minor": 0
            },
            "text/plain": [
              "Training:   0%|          | 0/812 [00:00<?, ?it/s]"
            ]
          },
          "metadata": {},
          "output_type": "display_data"
        },
        {
          "name": "stdout",
          "output_type": "stream",
          "text": [
            "Training Loss: 0.0848\n"
          ]
        },
        {
          "data": {
            "application/vnd.jupyter.widget-view+json": {
              "model_id": "",
              "version_major": 2,
              "version_minor": 0
            },
            "text/plain": [
              "Evaluating:   0%|          | 0/144 [00:00<?, ?it/s]"
            ]
          },
          "metadata": {},
          "output_type": "display_data"
        },
        {
          "name": "stdout",
          "output_type": "stream",
          "text": [
            "Validation Loss: 0.3218 | Validation Accuracy: 0.9219\n",
            "Classification Report:\n",
            "               precision    recall  f1-score   support\n",
            "\n",
            "    Negative       0.93      0.92      0.93      3354\n",
            "     Neutral       0.91      0.92      0.92      2716\n",
            "    Positive       0.92      0.92      0.92      3099\n",
            "\n",
            "    accuracy                           0.92      9169\n",
            "   macro avg       0.92      0.92      0.92      9169\n",
            "weighted avg       0.92      0.92      0.92      9169\n",
            "\n",
            "\n",
            "--- Epoch 95/100 ---\n"
          ]
        },
        {
          "data": {
            "application/vnd.jupyter.widget-view+json": {
              "model_id": "",
              "version_major": 2,
              "version_minor": 0
            },
            "text/plain": [
              "Training:   0%|          | 0/812 [00:00<?, ?it/s]"
            ]
          },
          "metadata": {},
          "output_type": "display_data"
        },
        {
          "name": "stdout",
          "output_type": "stream",
          "text": [
            "Training Loss: 0.0839\n"
          ]
        },
        {
          "data": {
            "application/vnd.jupyter.widget-view+json": {
              "model_id": "",
              "version_major": 2,
              "version_minor": 0
            },
            "text/plain": [
              "Evaluating:   0%|          | 0/144 [00:00<?, ?it/s]"
            ]
          },
          "metadata": {},
          "output_type": "display_data"
        },
        {
          "name": "stdout",
          "output_type": "stream",
          "text": [
            "Validation Loss: 0.3234 | Validation Accuracy: 0.9198\n",
            "Classification Report:\n",
            "               precision    recall  f1-score   support\n",
            "\n",
            "    Negative       0.93      0.92      0.93      3354\n",
            "     Neutral       0.91      0.92      0.91      2716\n",
            "    Positive       0.92      0.92      0.92      3099\n",
            "\n",
            "    accuracy                           0.92      9169\n",
            "   macro avg       0.92      0.92      0.92      9169\n",
            "weighted avg       0.92      0.92      0.92      9169\n",
            "\n",
            "\n",
            "--- Epoch 96/100 ---\n"
          ]
        },
        {
          "data": {
            "application/vnd.jupyter.widget-view+json": {
              "model_id": "",
              "version_major": 2,
              "version_minor": 0
            },
            "text/plain": [
              "Training:   0%|          | 0/812 [00:00<?, ?it/s]"
            ]
          },
          "metadata": {},
          "output_type": "display_data"
        },
        {
          "name": "stdout",
          "output_type": "stream",
          "text": [
            "Training Loss: 0.0823\n"
          ]
        },
        {
          "data": {
            "application/vnd.jupyter.widget-view+json": {
              "model_id": "",
              "version_major": 2,
              "version_minor": 0
            },
            "text/plain": [
              "Evaluating:   0%|          | 0/144 [00:00<?, ?it/s]"
            ]
          },
          "metadata": {},
          "output_type": "display_data"
        },
        {
          "name": "stdout",
          "output_type": "stream",
          "text": [
            "Validation Loss: 0.3222 | Validation Accuracy: 0.9221\n",
            "Classification Report:\n",
            "               precision    recall  f1-score   support\n",
            "\n",
            "    Negative       0.94      0.92      0.93      3354\n",
            "     Neutral       0.90      0.93      0.92      2716\n",
            "    Positive       0.92      0.91      0.92      3099\n",
            "\n",
            "    accuracy                           0.92      9169\n",
            "   macro avg       0.92      0.92      0.92      9169\n",
            "weighted avg       0.92      0.92      0.92      9169\n",
            "\n",
            "\n",
            "New best model saved to ./sentiment_model with accuracy: 0.9221\n",
            "\n",
            "--- Epoch 97/100 ---\n"
          ]
        },
        {
          "data": {
            "application/vnd.jupyter.widget-view+json": {
              "model_id": "",
              "version_major": 2,
              "version_minor": 0
            },
            "text/plain": [
              "Training:   0%|          | 0/812 [00:00<?, ?it/s]"
            ]
          },
          "metadata": {},
          "output_type": "display_data"
        },
        {
          "name": "stdout",
          "output_type": "stream",
          "text": [
            "Training Loss: 0.0813\n"
          ]
        },
        {
          "data": {
            "application/vnd.jupyter.widget-view+json": {
              "model_id": "",
              "version_major": 2,
              "version_minor": 0
            },
            "text/plain": [
              "Evaluating:   0%|          | 0/144 [00:00<?, ?it/s]"
            ]
          },
          "metadata": {},
          "output_type": "display_data"
        },
        {
          "name": "stdout",
          "output_type": "stream",
          "text": [
            "Validation Loss: 0.3244 | Validation Accuracy: 0.9208\n",
            "Classification Report:\n",
            "               precision    recall  f1-score   support\n",
            "\n",
            "    Negative       0.94      0.92      0.93      3354\n",
            "     Neutral       0.89      0.94      0.91      2716\n",
            "    Positive       0.93      0.91      0.92      3099\n",
            "\n",
            "    accuracy                           0.92      9169\n",
            "   macro avg       0.92      0.92      0.92      9169\n",
            "weighted avg       0.92      0.92      0.92      9169\n",
            "\n",
            "\n",
            "--- Epoch 98/100 ---\n"
          ]
        },
        {
          "data": {
            "application/vnd.jupyter.widget-view+json": {
              "model_id": "",
              "version_major": 2,
              "version_minor": 0
            },
            "text/plain": [
              "Training:   0%|          | 0/812 [00:00<?, ?it/s]"
            ]
          },
          "metadata": {},
          "output_type": "display_data"
        },
        {
          "name": "stdout",
          "output_type": "stream",
          "text": [
            "Training Loss: 0.0819\n"
          ]
        },
        {
          "data": {
            "application/vnd.jupyter.widget-view+json": {
              "model_id": "",
              "version_major": 2,
              "version_minor": 0
            },
            "text/plain": [
              "Evaluating:   0%|          | 0/144 [00:00<?, ?it/s]"
            ]
          },
          "metadata": {},
          "output_type": "display_data"
        },
        {
          "name": "stdout",
          "output_type": "stream",
          "text": [
            "Validation Loss: 0.3294 | Validation Accuracy: 0.9195\n",
            "Classification Report:\n",
            "               precision    recall  f1-score   support\n",
            "\n",
            "    Negative       0.92      0.93      0.92      3354\n",
            "     Neutral       0.91      0.92      0.92      2716\n",
            "    Positive       0.92      0.91      0.92      3099\n",
            "\n",
            "    accuracy                           0.92      9169\n",
            "   macro avg       0.92      0.92      0.92      9169\n",
            "weighted avg       0.92      0.92      0.92      9169\n",
            "\n",
            "\n",
            "--- Epoch 99/100 ---\n"
          ]
        },
        {
          "data": {
            "application/vnd.jupyter.widget-view+json": {
              "model_id": "",
              "version_major": 2,
              "version_minor": 0
            },
            "text/plain": [
              "Training:   0%|          | 0/812 [00:00<?, ?it/s]"
            ]
          },
          "metadata": {},
          "output_type": "display_data"
        },
        {
          "name": "stdout",
          "output_type": "stream",
          "text": [
            "Training Loss: 0.0811\n"
          ]
        },
        {
          "data": {
            "application/vnd.jupyter.widget-view+json": {
              "model_id": "",
              "version_major": 2,
              "version_minor": 0
            },
            "text/plain": [
              "Evaluating:   0%|          | 0/144 [00:00<?, ?it/s]"
            ]
          },
          "metadata": {},
          "output_type": "display_data"
        },
        {
          "name": "stdout",
          "output_type": "stream",
          "text": [
            "Validation Loss: 0.3253 | Validation Accuracy: 0.9222\n",
            "Classification Report:\n",
            "               precision    recall  f1-score   support\n",
            "\n",
            "    Negative       0.93      0.93      0.93      3354\n",
            "     Neutral       0.90      0.93      0.92      2716\n",
            "    Positive       0.93      0.91      0.92      3099\n",
            "\n",
            "    accuracy                           0.92      9169\n",
            "   macro avg       0.92      0.92      0.92      9169\n",
            "weighted avg       0.92      0.92      0.92      9169\n",
            "\n",
            "\n",
            "New best model saved to ./sentiment_model with accuracy: 0.9222\n",
            "\n",
            "--- Epoch 100/100 ---\n"
          ]
        },
        {
          "data": {
            "application/vnd.jupyter.widget-view+json": {
              "model_id": "",
              "version_major": 2,
              "version_minor": 0
            },
            "text/plain": [
              "Training:   0%|          | 0/812 [00:00<?, ?it/s]"
            ]
          },
          "metadata": {},
          "output_type": "display_data"
        },
        {
          "name": "stdout",
          "output_type": "stream",
          "text": [
            "Training Loss: 0.0793\n"
          ]
        },
        {
          "data": {
            "application/vnd.jupyter.widget-view+json": {
              "model_id": "",
              "version_major": 2,
              "version_minor": 0
            },
            "text/plain": [
              "Evaluating:   0%|          | 0/144 [00:00<?, ?it/s]"
            ]
          },
          "metadata": {},
          "output_type": "display_data"
        },
        {
          "name": "stdout",
          "output_type": "stream",
          "text": [
            "Validation Loss: 0.3292 | Validation Accuracy: 0.9222\n",
            "Classification Report:\n",
            "               precision    recall  f1-score   support\n",
            "\n",
            "    Negative       0.95      0.92      0.93      3354\n",
            "     Neutral       0.90      0.93      0.92      2716\n",
            "    Positive       0.91      0.92      0.92      3099\n",
            "\n",
            "    accuracy                           0.92      9169\n",
            "   macro avg       0.92      0.92      0.92      9169\n",
            "weighted avg       0.92      0.92      0.92      9169\n",
            "\n",
            "\n",
            "--- Training Complete ---\n",
            "Best validation accuracy achieved: 0.9222\n"
          ]
        }
      ],
      "source": [
        "\n",
        "print(\"\\n--- Starting Model Training ---\")\n",
        "history = {'train_loss': [], 'val_loss': [], 'val_accuracy': [], 'val_f1': []}\n",
        "best_accuracy = 0\n",
        "\n",
        "for epoch in range(config.EPOCHS):\n",
        "    print(f'\\n--- Epoch {epoch + 1}/{config.EPOCHS} ---')\n",
        "\n",
        "    train_loss = train_epoch(model, train_loader, loss_fn, optimizer, config.DEVICE)\n",
        "    print(f'Training Loss: {train_loss:.4f}')\n",
        "\n",
        "\n",
        "\n",
        "    val_loss, val_acc, val_report_str, val_weighted_f1 = eval_model(model, val_loader, loss_fn, config.DEVICE)\n",
        "\n",
        "    print(f'Validation Loss: {val_loss:.4f} | Validation Accuracy: {val_acc:.4f}')\n",
        "    print(\"Classification Report:\\n\", val_report_str)\n",
        "\n",
        "\n",
        "    history['train_loss'].append(train_loss)\n",
        "    history['val_loss'].append(val_loss)\n",
        "    history['val_accuracy'].append(val_acc)\n",
        "    history['val_f1'].append(val_weighted_f1)\n",
        "\n",
        "    if val_acc > best_accuracy:\n",
        "        best_accuracy = val_acc\n",
        "        model_to_save = model.module if isinstance(model, torch.nn.DataParallel) else model\n",
        "        model_to_save.save_pretrained(config.SAVE_PATH)\n",
        "        tokenizer.save_pretrained(config.SAVE_PATH)\n",
        "        print(f\"\\nNew best model saved to {config.SAVE_PATH} with accuracy: {best_accuracy:.4f}\")\n",
        "\n",
        "print(\"\\n--- Training Complete ---\")\n",
        "print(f\"Best validation accuracy achieved: {best_accuracy:.4f}\")\n",
        "\n"
      ]
    },
    {
      "cell_type": "code",
      "execution_count": null,
      "metadata": {
        "execution": {
          "iopub.execute_input": "2025-08-29T12:23:45.378381Z",
          "iopub.status.busy": "2025-08-29T12:23:45.378136Z",
          "iopub.status.idle": "2025-08-29T12:23:45.38185Z",
          "shell.execute_reply": "2025-08-29T12:23:45.381186Z",
          "shell.execute_reply.started": "2025-08-29T12:23:45.378365Z"
        },
        "id": "kKi-moUcH1C_",
        "trusted": true
      },
      "outputs": [],
      "source": [
        "import matplotlib.pyplot as plt"
      ]
    },
    {
      "cell_type": "code",
      "execution_count": null,
      "metadata": {
        "execution": {
          "iopub.execute_input": "2025-08-29T12:23:45.779542Z",
          "iopub.status.busy": "2025-08-29T12:23:45.779308Z",
          "iopub.status.idle": "2025-08-29T12:23:46.164694Z",
          "shell.execute_reply": "2025-08-29T12:23:46.164045Z",
          "shell.execute_reply.started": "2025-08-29T12:23:45.779525Z"
        },
        "id": "CJx8dflUH1C_",
        "outputId": "33d8ace3-15ca-492a-d661-048b341504d3",
        "trusted": true
      },
      "outputs": [
        {
          "name": "stdout",
          "output_type": "stream",
          "text": [
            "\n",
            "--- Plotting Training History ---\n"
          ]
        },
        {
          "data": {
            "image/png": "[encoded data removed]",
            "text/plain": [
              "<Figure size 1500x500 with 2 Axes>"
            ]
          },
          "metadata": {},
          "output_type": "display_data"
        }
      ],
      "source": [
        "\n",
        "print(\"\\n--- Plotting Training History ---\")\n",
        "\n",
        "plt.style.use('ggplot')\n",
        "\n",
        "fig, (ax1, ax2) = plt.subplots(1, 2, figsize=(15, 5))\n",
        "epochs_range = range(1, config.EPOCHS + 1)\n",
        "\n",
        "ax1.plot(epochs_range, history['train_loss'], 'b-o', label='Training Loss')\n",
        "ax1.plot(epochs_range, history['val_loss'], 'r-o', label='Validation Loss')\n",
        "ax1.set_title('Training and Validation Loss')\n",
        "ax1.set_xlabel('Epochs')\n",
        "ax1.set_ylabel('Loss')\n",
        "ax1.legend()\n",
        "ax1.grid(True)\n",
        "\n",
        "ax2.plot(epochs_range, history['val_accuracy'], 'g-o', label='Validation Accuracy')\n",
        "ax2.plot(epochs_range, history['val_f1'], 'm-o', label='Validation F1-Score')\n",
        "ax2.set_title('Validation Accuracy and F1-Score')\n",
        "ax2.set_xlabel('Epochs')\n",
        "ax2.set_ylabel('Score')\n",
        "ax2.legend()\n",
        "ax2.grid(True)\n",
        "plt.tight_layout()\n",
        "plt.show()\n",
        "\n"
      ]
    },
    {
      "cell_type": "code",
      "execution_count": null,
      "metadata": {
        "execution": {
          "iopub.execute_input": "2025-08-29T12:23:46.166179Z",
          "iopub.status.busy": "2025-08-29T12:23:46.165839Z",
          "iopub.status.idle": "2025-08-29T12:23:46.244282Z",
          "shell.execute_reply": "2025-08-29T12:23:46.243642Z",
          "shell.execute_reply.started": "2025-08-29T12:23:46.16616Z"
        },
        "id": "waRAhSVaH1DA",
        "outputId": "15e55561-de1e-45d0-9241-954b96c27938",
        "trusted": true
      },
      "outputs": [
        {
          "name": "stdout",
          "output_type": "stream",
          "text": [
            "\n",
            "--- Loading saved model for inference test ---\n",
            "\n",
            "--- Inference Examples ---\n",
            "Text: 'This game is absolutely fantastic, I can't stop playing!'\n",
            "Predicted Sentiment: Positive (Confidence: 0.9996)\n",
            "\n",
            "Text: 'The customer service was terrible and I had to wait for hours.'\n",
            "Predicted Sentiment: Positive (Confidence: 0.9989)\n",
            "\n",
            "Text: 'It's an okay product, not great but not bad either.'\n",
            "Predicted Sentiment: Neutral (Confidence: 0.9960)\n",
            "\n"
          ]
        }
      ],
      "source": [
        "\n",
        "\n",
        "print(\"\\n--- Loading saved model for inference test ---\")\n",
        "final_model = AutoModelForSequenceClassification.from_pretrained(config.SAVE_PATH)\n",
        "final_tokenizer = AutoTokenizer.from_pretrained(config.SAVE_PATH)\n",
        "\n",
        "final_model.to(config.DEVICE)\n",
        "final_model.eval()\n",
        "\n",
        "def predict_sentiment(text):\n",
        "    inputs = final_tokenizer.encode_plus(\n",
        "        text,\n",
        "        add_special_tokens=True,\n",
        "        max_length=config.MAX_LEN,\n",
        "        return_token_type_ids=False,\n",
        "        padding='max_length',\n",
        "        truncation=True,\n",
        "        return_attention_mask=True,\n",
        "        return_tensors='pt',\n",
        "    )\n",
        "\n",
        "    input_ids = inputs['input_ids'].to(config.DEVICE)\n",
        "    attention_mask = inputs['attention_mask'].to(config.DEVICE)\n",
        "\n",
        "    with torch.no_grad():\n",
        "        outputs = final_model(input_ids=input_ids, attention_mask=attention_mask)\n",
        "\n",
        "    prediction = torch.argmax(outputs.logits, dim=1).item()\n",
        "    confidence = torch.nn.functional.softmax(outputs.logits, dim=1).max().item()\n",
        "\n",
        "    # Reverse the label map to get the sentiment string\n",
        "    reverse_label_map = {v: k for k, v in label_map.items()}\n",
        "    return reverse_label_map[prediction], confidence\n",
        "\n",
        "# Test with some example sentences\n",
        "test_texts = [\n",
        "    \"This game is absolutely fantastic, I can't stop playing!\",\n",
        "    \"The customer service was terrible and I had to wait for hours.\",\n",
        "    \"It's an okay product, not great but not bad either.\",\n",
        "]\n",
        "\n",
        "print(\"\\n--- Inference Examples ---\")\n",
        "for text in test_texts:\n",
        "    sentiment, conf = predict_sentiment(text)\n",
        "    print(f\"Text: '{text}'\\nPredicted Sentiment: {sentiment} (Confidence: {conf:.4f})\\n\")\n"
      ]
    },
    {
      "cell_type": "code",
      "execution_count": null,
      "metadata": {
        "id": "qbEvpAVcH1DB",
        "trusted": true
      },
      "outputs": [],
      "source": []
    },
    {
      "cell_type": "code",
      "execution_count": null,
      "metadata": {
        "id": "QFfyiamfH1DB",
        "trusted": true
      },
      "outputs": [],
      "source": []
    },
    {
      "cell_type": "code",
      "execution_count": null,
      "metadata": {
        "id": "2fOeboXqH1DD",
        "trusted": true
      },
      "outputs": [],
      "source": []
    },
    {
      "cell_type": "code",
      "execution_count": null,
      "metadata": {
        "id": "5XrZjKMUH1DE",
        "trusted": true
      },
      "outputs": [],
      "source": []
    },
    {
      "cell_type": "code",
      "execution_count": null,
      "metadata": {
        "id": "i04v5NteH1DE",
        "trusted": true
      },
      "outputs": [],
      "source": []
    },
    {
      "cell_type": "code",
      "execution_count": null,
      "metadata": {
        "id": "5dPz5sI9H1DF",
        "trusted": true
      },
      "outputs": [],
      "source": []
    },
    {
      "cell_type": "code",
      "execution_count": null,
      "metadata": {
        "id": "uOeSSfJ6H1DF",
        "trusted": true
      },
      "outputs": [],
      "source": []
    },
    {
      "cell_type": "code",
      "execution_count": null,
      "metadata": {
        "id": "_YecRAUSH1DF",
        "trusted": true
      },
      "outputs": [],
      "source": []
    },
    {
      "cell_type": "code",
      "execution_count": null,
      "metadata": {
        "id": "hNOYfOHlH1DF",
        "trusted": true
      },
      "outputs": [],
      "source": []
    },
    {
      "cell_type": "code",
      "execution_count": null,
      "metadata": {
        "id": "WjLGAEjgH1DF",
        "trusted": true
      },
      "outputs": [],
      "source": []
    },
    {
      "cell_type": "code",
      "execution_count": null,
      "metadata": {
        "id": "GZMUGfyeH1DF",
        "trusted": true
      },
      "outputs": [],
      "source": []
    },
    {
      "cell_type": "code",
      "execution_count": null,
      "metadata": {
        "id": "gblWJ9CAH1DG",
        "trusted": true
      },
      "outputs": [],
      "source": []
    },
    {
      "cell_type": "code",
      "execution_count": null,
      "metadata": {
        "id": "BwXoBLNbH1DK",
        "trusted": true
      },
      "outputs": [],
      "source": []
    },
    {
      "cell_type": "code",
      "execution_count": null,
      "metadata": {
        "id": "GSDbBzN2H1DM",
        "trusted": true
      },
      "outputs": [],
      "source": []
    },
    {
      "cell_type": "code",
      "execution_count": null,
      "metadata": {
        "id": "M8TFT2rjH1DN",
        "trusted": true
      },
      "outputs": [],
      "source": []
    }
  ],
  "metadata": {
    "colab": {
      "name": "tuning-tiny-bert",
      "provenance": []
    },
    "kaggle": {
      "accelerator": "nvidiaTeslaT4",
      "dataSources": [
        {
          "datasetId": 1520310,
          "sourceId": 2510329,
          "sourceType": "datasetVersion"
        }
      ],
      "dockerImageVersionId": 31090,
      "isGpuEnabled": true,
      "isInternetEnabled": true,
      "language": "python",
      "sourceType": "notebook"
    },
    "kernelspec": {
      "display_name": "Python 3",
      "language": "python",
      "name": "python3"
    },
    "language_info": {
      "codemirror_mode": {
        "name": "ipython",
        "version": 3
      },
      "file_extension": ".py",
      "mimetype": "text/x-python",
      "name": "python",
      "nbconvert_exporter": "python",
      "pygments_lexer": "ipython3",
      "version": "3.11.13"
    }
  },
  "nbformat": 4,
  "nbformat_minor": 0
}
